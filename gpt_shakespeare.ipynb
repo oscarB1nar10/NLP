{
  "cells": [
    {
      "cell_type": "markdown",
      "metadata": {
        "id": "view-in-github",
        "colab_type": "text"
      },
      "source": [
        "<a href=\"https://colab.research.google.com/github/oscarB1nar10/NLP/blob/main/gpt_shakespeare.ipynb\" target=\"_parent\"><img src=\"https://colab.research.google.com/assets/colab-badge.svg\" alt=\"Open In Colab\"/></a>"
      ]
    },
    {
      "cell_type": "code",
      "execution_count": null,
      "metadata": {
        "colab": {
          "base_uri": "https://localhost:8080/"
        },
        "id": "AUdbwtRsnygi",
        "outputId": "0ec448a3-8a81-48d0-eab1-d19696e42257"
      },
      "outputs": [
        {
          "name": "stdout",
          "output_type": "stream",
          "text": [
            "--2024-09-17 11:31:14--  https://www.gutenberg.org/files/2000/2000-0.txt\n",
            "Resolving www.gutenberg.org (www.gutenberg.org)... 152.19.134.47, 2610:28:3090:3000:0:bad:cafe:47\n",
            "Connecting to www.gutenberg.org (www.gutenberg.org)|152.19.134.47|:443... connected.\n",
            "HTTP request sent, awaiting response... 200 OK\n",
            "Length: 2226045 (2.1M) [text/plain]\n",
            "Saving to: ‘2000-0.txt’\n",
            "\n",
            "2000-0.txt          100%[===================>]   2.12M  1.35MB/s    in 1.6s    \n",
            "\n",
            "2024-09-17 11:31:17 (1.35 MB/s) - ‘2000-0.txt’ saved [2226045/2226045]\n",
            "\n"
          ]
        }
      ],
      "source": [
        "#!wget https://raw.githubusercontent.com/karpathy/char-rnn/master/data/tinyshakespeare/input.txt\n",
        "!wget https://www.gutenberg.org/files/2000/2000-0.txt"
      ]
    },
    {
      "cell_type": "code",
      "execution_count": null,
      "metadata": {
        "id": "i_zm2jvvuS4K"
      },
      "outputs": [],
      "source": [
        "with open('2000-0.txt', 'r', encoding='utf-8') as f:\n",
        "    text = f.read()"
      ]
    },
    {
      "cell_type": "code",
      "execution_count": null,
      "metadata": {
        "colab": {
          "base_uri": "https://localhost:8080/"
        },
        "id": "8qkn_eJmusk3",
        "outputId": "5abf5d10-a50b-4025-ad35-e409530fc25d"
      },
      "outputs": [
        {
          "name": "stdout",
          "output_type": "stream",
          "text": [
            "length of dataset in characters:  2130398\n"
          ]
        }
      ],
      "source": [
        "print(\"length of dataset in characters: \", len(text))"
      ]
    },
    {
      "cell_type": "code",
      "execution_count": null,
      "metadata": {
        "colab": {
          "base_uri": "https://localhost:8080/"
        },
        "id": "KRYwXYmFuxGw",
        "outputId": "093c1e3e-2688-4d7c-9360-bba65e743e6f"
      },
      "outputs": [
        {
          "name": "stdout",
          "output_type": "stream",
          "text": [
            "﻿The Project Gutenberg eBook of Don Quijote, by Miguel de Cervantes Saavedra\n",
            "\n",
            "This eBook is for the use of anyone anywhere in the United States and\n",
            "most other parts of the world at no cost and with almost no restrictions\n",
            "whatsoever. You may copy it, give it away or re-use it under the terms\n",
            "of the Project Gutenberg License included with this eBook or online at\n",
            "www.gutenberg.org. If you are not located in the United States, you\n",
            "will have to check the laws of the country where you are located before\n",
            "using this eBook.\n",
            "\n",
            "Title: Don Quijote\n",
            "\n",
            "Author: Miguel de Cervantes Saavedra\n",
            "\n",
            "Release Date: December, 1999 [eBook #2000]\n",
            "[Most recently updated: January 2, 2020]\n",
            "\n",
            "Language: Spanish\n",
            "\n",
            "Character set encoding: UTF-8\n",
            "\n",
            "Produced by: an anonymous Project Gutenberg volunteer and Joaquin Cuenca Abela\n",
            "\n",
            "*** START OF THE PROJECT GUTENBERG EBOOK DON QUIJOTE ***\n",
            "\n",
            "\n",
            "\n",
            "\n",
            "El ingenioso hidalgo don Quijote de la Mancha\n",
            "\n",
            "\n",
            "\n",
            "por Miguel de Cervantes Saavedra\n",
            "\n",
            "\n",
            "\n",
            "\n",
            "\n",
            "El ingenioso hidalgo don Quijote de la Mancha\n",
            "\n",
            "\n",
            "  \n",
            "Tasa\n",
            "\n",
            "\n"
          ]
        }
      ],
      "source": [
        "# Let's look at the first 1000 characters\n",
        "print(text[:1000])"
      ]
    },
    {
      "cell_type": "code",
      "execution_count": null,
      "metadata": {
        "colab": {
          "base_uri": "https://localhost:8080/"
        },
        "id": "zjlBuiccu9Do",
        "outputId": "af141f52-36c9-42d7-f40b-4ac37c2e5182"
      },
      "outputs": [
        {
          "name": "stdout",
          "output_type": "stream",
          "text": [
            "\n",
            " !\"$%'()*,-./0123456789:;?@ABCDEFGHIJKLMNOPQRSTUVWXYZ]abcdefghijklmnopqrstuvwxyz¡«»¿ÁÉÍÑÓÚàáéíïñóùúü—\n",
            "102\n"
          ]
        }
      ],
      "source": [
        "# All unique characters that occur in this text\n",
        "position_start_of_story = text.find(\"El ingenioso hidalgo don Quijote de la Mancha\")\n",
        "text = text[position_start_of_story:]\n",
        "chars = sorted(list(set(text)))\n",
        "vocab_size = len(chars)\n",
        "print(''.join(chars))\n",
        "print(vocab_size)"
      ]
    },
    {
      "cell_type": "code",
      "execution_count": null,
      "metadata": {
        "colab": {
          "base_uri": "https://localhost:8080/"
        },
        "id": "JQZtb87_wcEB",
        "outputId": "7c506809-8131-421b-ecbe-9463c8657b50"
      },
      "outputs": [
        {
          "name": "stdout",
          "output_type": "stream",
          "text": [
            "[62, 63, 63, 1, 74, 62, 59, 72, 59]\n",
            "hii there\n",
            "\n",
            "\n",
            " \n",
            "!\n",
            "j\n"
          ]
        }
      ],
      "source": [
        "# Create a mapping from characters to integers\n",
        "stoi = { ch:i for i,ch in enumerate(chars)}\n",
        "itos = { i:ch for i,ch in enumerate(chars)}\n",
        "\n",
        "encode = lambda s: [stoi[c] for c in s] # Encoder: Take a string and output a list of integers\n",
        "decoder = lambda l: ''.join([itos[i] for i in l]) # Decoder: Take a list of integers and output a string\n",
        "\n",
        "print(encode(\"hii there\"))\n",
        "print(decoder(encode(\"hii there\")))\n",
        "print(decoder([0]))\n",
        "print(decoder([1]))\n",
        "print(decoder([2]))\n",
        "print(decoder([64]))"
      ]
    },
    {
      "cell_type": "code",
      "execution_count": null,
      "metadata": {
        "colab": {
          "base_uri": "https://localhost:8080/"
        },
        "id": "G4td8LaOy0xI",
        "outputId": "ccc34670-b913-47fd-bff4-cff27d8b08ab"
      },
      "outputs": [
        {
          "name": "stdout",
          "output_type": "stream",
          "text": [
            "torch.Size([2129542]) torch.int64\n",
            "tensor([32, 66,  1, 63, 68, 61, 59, 68, 63, 69, 73, 69,  1, 62, 63, 58, 55, 66,\n",
            "        61, 69,  1, 58, 69, 68,  1, 44, 75, 63, 64, 69, 74, 59,  1, 58, 59,  1,\n",
            "        66, 55,  1, 40, 55, 68, 57, 62, 55,  0,  0,  0,  0, 70, 69, 72,  1, 40,\n",
            "        63, 61, 75, 59, 66,  1, 58, 59,  1, 30, 59, 72, 76, 55, 68, 74, 59, 73,\n",
            "         1, 46, 55, 55, 76, 59, 58, 72, 55,  0,  0,  0,  0,  0,  0, 32, 66,  1,\n",
            "        63, 68, 61, 59, 68, 63, 69, 73, 69,  1, 62, 63, 58, 55, 66, 61, 69,  1,\n",
            "        58, 69, 68,  1, 44, 75, 63, 64, 69, 74, 59,  1, 58, 59,  1, 66, 55,  1,\n",
            "        40, 55, 68, 57, 62, 55,  0,  0,  0,  1,  1,  0, 47, 55, 73, 55,  0,  0,\n",
            "         1,  1,  0, 47, 59, 73, 74, 63, 67, 69, 68, 63, 69,  1, 58, 59,  1, 66,\n",
            "        55, 73,  1, 59, 72, 72, 55, 74, 55, 73,  0,  0,  1,  1,  0, 32, 66,  1,\n",
            "        45, 59, 79,  0,  0,  1,  1,  0, 28, 66,  1, 31, 75, 71, 75, 59,  1, 58,\n",
            "        59,  1, 29, 93, 64, 55, 72,  0,  0,  1,  1,  0, 43, 72, 97, 66, 69, 61,\n",
            "        69,  0,  0,  1,  1,  0, 28, 66,  1, 66, 63, 56, 72, 69,  1, 58, 59,  1,\n",
            "        58, 69, 68,  1, 44, 75, 63, 64, 69, 74, 59,  1, 58, 59,  1, 66, 55,  1,\n",
            "        40, 55, 68, 57, 62, 55,  0,  0,  0,  0, 44, 75, 59,  1, 74, 72, 55, 74,\n",
            "        55,  1, 58, 59,  1, 66, 55,  1, 57, 69, 68, 58, 63, 57, 63, 97, 68,  1,\n",
            "        79,  1, 59, 64, 59, 72, 57, 63, 57, 63, 69,  1, 58, 59, 66,  1, 60, 55,\n",
            "        67, 69, 73, 69,  0, 62, 63, 58, 55, 66, 61, 69,  1, 58, 69, 68,  1, 44,\n",
            "        75, 63, 64, 69, 74, 59,  1, 58, 59,  1, 66, 55,  1, 40, 55, 68, 57, 62,\n",
            "        55,  0,  0, 44, 75, 59,  1, 74, 72, 55, 74, 55,  1, 58, 59,  1, 66, 55,\n",
            "         1, 70, 72, 63, 67, 59, 72, 55,  1, 73, 55, 66, 63, 58, 55,  1, 71, 75,\n",
            "        59,  1, 58, 59,  1, 73, 75,  1, 74, 63, 59, 72, 72, 55,  1, 62, 63, 80,\n",
            "        69,  0, 59, 66,  1, 63, 68, 61, 59, 68, 63, 69, 73, 69,  1, 58, 69, 68,\n",
            "         1, 44, 75, 63, 64, 69, 74, 59,  0,  0, 31, 69, 68, 58, 59,  1, 73, 59,\n",
            "         1, 57, 75, 59, 68, 74, 55,  1, 66, 55,  1, 61, 72, 55, 57, 63, 69, 73,\n",
            "        55,  1, 67, 55, 68, 59, 72, 55,  1, 71, 75, 59,  1, 74, 75, 76, 69,  1,\n",
            "        58, 69, 68,  0, 44, 75, 63, 64, 69, 74, 59,  1, 59, 68,  1, 55, 72, 67,\n",
            "        55, 72, 73, 59,  1, 57, 55, 56, 55, 66, 66, 59, 72, 69])\n"
          ]
        }
      ],
      "source": [
        "# Let's encode the entire text dataset and store it into a torch.Tensor\n",
        "import torch\n",
        "data = torch.tensor(encode(text), dtype=torch.long)\n",
        "print(data.shape, data.dtype)\n",
        "print(data[:500])"
      ]
    },
    {
      "cell_type": "code",
      "execution_count": null,
      "metadata": {
        "id": "YV0KX5PK63-R"
      },
      "outputs": [],
      "source": [
        "# Let's split up the data into train and validation sets\n",
        "n = int(0.9*len(data)) # First 90% will be train, rest validation\n",
        "train_data = data[:n]\n",
        "val_data = data[n:]"
      ]
    },
    {
      "cell_type": "code",
      "execution_count": null,
      "metadata": {
        "colab": {
          "base_uri": "https://localhost:8080/"
        },
        "id": "Geu_vYz79V4a",
        "outputId": "189cf767-3d6c-4fb9-a43c-aae104f898dc"
      },
      "outputs": [
        {
          "data": {
            "text/plain": [
              "tensor([32, 66,  1, 63, 68, 61, 59, 68, 63])"
            ]
          },
          "execution_count": 9,
          "metadata": {},
          "output_type": "execute_result"
        }
      ],
      "source": [
        "block_size = 8 # Context length: how many characters do we take to predict the next one\n",
        "train_data[:block_size+1]"
      ]
    },
    {
      "cell_type": "code",
      "execution_count": null,
      "metadata": {
        "colab": {
          "base_uri": "https://localhost:8080/"
        },
        "id": "IivKALgy9jXI",
        "outputId": "4c87cc38-b648-4fa8-d800-db9b5d6077e6"
      },
      "outputs": [
        {
          "name": "stdout",
          "output_type": "stream",
          "text": [
            "x: tensor([32, 66,  1, 63, 68, 61, 59, 68]), y: tensor([66,  1, 63, 68, 61, 59, 68, 63])\n",
            "When input is tensor([32]) the target: 66\n",
            "When input is tensor([32, 66]) the target: 1\n",
            "When input is tensor([32, 66,  1]) the target: 63\n",
            "When input is tensor([32, 66,  1, 63]) the target: 68\n",
            "When input is tensor([32, 66,  1, 63, 68]) the target: 61\n",
            "When input is tensor([32, 66,  1, 63, 68, 61]) the target: 59\n",
            "When input is tensor([32, 66,  1, 63, 68, 61, 59]) the target: 68\n",
            "When input is tensor([32, 66,  1, 63, 68, 61, 59, 68]) the target: 63\n"
          ]
        }
      ],
      "source": [
        "# The `y` is slided one position to the right\n",
        "# i.e., X = [10, 12, 15, 28, 30], y = [12, 15, 28, 30, 40]\n",
        "x = train_data[:block_size]\n",
        "y = train_data[1:block_size+1]\n",
        "print(f\"x: {x[:]}, y: {y[:]}\")\n",
        "\n",
        "for t in range(block_size):\n",
        "  context = x[:t+1]\n",
        "  target = y[t]\n",
        "  print(f\"When input is {context} the target: {target}\")"
      ]
    },
    {
      "cell_type": "code",
      "execution_count": null,
      "metadata": {
        "colab": {
          "base_uri": "https://localhost:8080/"
        },
        "id": "QyUKQf9H_4Ep",
        "outputId": "dbfe04b4-25a1-4652-ba81-b1faaf51833f"
      },
      "outputs": [
        {
          "name": "stdout",
          "output_type": "stream",
          "text": [
            "inputs:\n",
            "torch.Size([64, 264])\n",
            "tensor([[58, 55, 72,  ...,  1, 74, 69],\n",
            "        [55,  1, 55,  ..., 58, 69, 68],\n",
            "        [58, 59, 73,  ..., 97, 24,  0],\n",
            "        ...,\n",
            "        [62, 55,  1,  ..., 75, 79, 69],\n",
            "        [68,  1, 59,  ..., 75, 59,  1],\n",
            "        [ 1, 59, 73,  ..., 72, 55, 59]], device='cuda:0')\n",
            "targets:\n",
            "torch.Size([64, 264])\n",
            "tensor([[55, 72,  1,  ..., 74, 69, 58],\n",
            "        [ 1, 55,  1,  ..., 69, 68,  1],\n",
            "        [59, 73,  1,  ..., 24,  0,  0],\n",
            "        ...,\n",
            "        [55,  1, 59,  ..., 79, 69,  1],\n",
            "        [ 1, 59, 68,  ..., 59,  1, 93],\n",
            "        [59, 73,  1,  ..., 55, 59, 72]], device='cuda:0')\n",
            "----\n"
          ]
        }
      ],
      "source": [
        "torch.manual_seed(1337)\n",
        "batch_size = 64 # How many independent sequences will be process in parallel\n",
        "block_size = 264  # Maximun context lenght for predictions\n",
        "max_iters = 5000\n",
        "learning_rate = 1e-3\n",
        "n_embd = 384\n",
        "n_head = 6\n",
        "n_layer = 6\n",
        "dropout = 0.2\n",
        "device = torch.device('cuda' if torch.cuda.is_available() else 'cpu')\n",
        "\n",
        "def get_batch(split):\n",
        "  # Generate a small batch of data of inputs x and tarjets y\n",
        "  data = train_data if split=='train' else val_data\n",
        "  # Generate random integers within a specified range. In this case the range is from 0 to `len(data)-block_size`\n",
        "  ix = torch.randint(len(data)-block_size, (batch_size,)) # torch.Size([64])\n",
        "  x = torch.stack([data[i:i+block_size] for i in ix])\n",
        "  y = torch.stack([data[i+1:i+block_size+1] for i in ix])\n",
        "  return x, y\n",
        "\n",
        "xb, yb = get_batch('train')\n",
        "xb = xb.to(device)\n",
        "yb = yb.to(device)\n",
        "print('inputs:')\n",
        "print(xb.shape)\n",
        "print(xb)\n",
        "print('targets:')\n",
        "print(yb.shape)\n",
        "print(yb)\n",
        "\n",
        "print('----')\n",
        "\n",
        "# for b in range(batch_size): # Batch dimension\n",
        "#   for t in range(block_size): # Time dimension\n",
        "#     context = xb[b, :t+1]\n",
        "#     target = yb[b, t]\n",
        "#     print(f'When input is {context.tolist()} the target: {target}')"
      ]
    },
    {
      "cell_type": "code",
      "execution_count": null,
      "metadata": {
        "colab": {
          "base_uri": "https://localhost:8080/"
        },
        "id": "hw5JEEAumg0R",
        "outputId": "bdfaa482-43bc-43a6-c21d-71afdfc47214"
      },
      "outputs": [
        {
          "name": "stdout",
          "output_type": "stream",
          "text": [
            "torch.Size([16896, 102])\n",
            "tensor(5.0422, device='cuda:0', grad_fn=<NllLossBackward0>)\n",
            "\n",
            "3ú/aWÚa;'x t2ÁÚ6t0—Íxó/AL%$LrI8Oc—»»aUBíWs25J)ù)»qcR%*Ñi\"*Ñ5Ñz]XdL(xóúTiJóq¿4«ayùrr«cT%\n",
            "K:Óo;I'g5c«ù\n"
          ]
        }
      ],
      "source": [
        "import torch\n",
        "import torch.nn as nn\n",
        "import numpy as np\n",
        "from torch.nn import functional as F\n",
        "torch.manual_seed(1337)\n",
        "\n",
        "class Head(nn.Module):\n",
        "  \"\"\" One head of self-attention \"\"\"\n",
        "\n",
        "  def __init__(self, head_size):\n",
        "    super().__init__()\n",
        "    # The input dimension `n_embd` for the linear/fully connected layer is tipically the size of the embeddings (or features)\n",
        "    # that the model process.\n",
        "    # Each of these layers thus performs a linear transformation y = W @ x, where `x` is the input tensor and `W` is the learned\n",
        "    # weight matrix of the layer.\n",
        "    self.key = nn.Linear(n_embd, head_size, bias=False)\n",
        "    self.query = nn.Linear(n_embd, head_size, bias=False)\n",
        "    self.value = nn.Linear(n_embd, head_size, bias=False)\n",
        "    self.register_buffer ('tril', torch.tril(torch.ones(block_size, block_size)))\n",
        "\n",
        "    self.dropout = nn.Dropout(dropout)\n",
        "\n",
        "  def forward(self, x):\n",
        "    # `B` is the batch size\n",
        "    # 'T` is the sequence lenght: Indicates the number of tokens (words or characters) in each sequence\n",
        "    # `C` is the channels or feature dimension: Represents the size of the feature vector associated with each element of the sequence.\n",
        "    # In NLP applications, this often corresponds to the embedding size.\n",
        "    B,T,C = x.shape\n",
        "    k = self.key(x) # (B,T,C)\n",
        "    q = self.query(x) # (B,T,C)\n",
        "    # Compute attention scores (\"afinnities\")\n",
        "    wei = q @ k.transpose(-2, -1) * C**-.05 # (B,T,C) @ (B,C,T) -> (B,T,T)\n",
        "    # Used to modify elements of `wei` based on a condition specified by a mask `tensor.masked_fill(mask, value)`\n",
        "    # The purpose is to enforce causality within the attention mechanism, ensuring that the model cannot \"look ahead\"\n",
        "    # to future positions in the sequence during training.\n",
        "    # Each output should only depend on previous inputs and not on any future context.\n",
        "    wei = wei.masked_fill(self.tril[:T, :T] == 0, float('-inf')) # (B,T,T)<------------------------------------------------------------------- key part of 1) Masked Multi-head Attention\n",
        "    # Each row of the last dimension `(B, T_i, :)` represents the unnormalized attention scores computed between\n",
        "    # a query at position `i` and all keys across the sequence. The Softmax function is applied to these scores to convert them\n",
        "    # into a probability distribution over all sequence positions for each query.\n",
        "    # Ensures that the scores are normalized across each set of keys for every individual query. This converts the raw attention scores into\n",
        "    # probabilitites indicating the relative importance or contribution of each key to the query at position `i`\n",
        "    wei = F.softmax(wei, dim=-1) # (B,T,T)\n",
        "    wei = self.dropout(wei)\n",
        "    # Perform the weighted aggregation of the values\n",
        "    v = self.value(x) # (B,T,C)\n",
        "    out = wei @ v # (B,T,T) @ (B,T,C) -> (B,T,C)\n",
        "    return out\n",
        "\n",
        "class MultiHeadAttention(nn.Module):\n",
        "  \"\"\" Multiple heads of self-attention in parallel \"\"\"\n",
        "\n",
        "  def __init__(self, num_heads, head_size):\n",
        "    super().__init__()\n",
        "    # This is a list of `Head` instances, each representing a single attention head.\n",
        "    # Each head can potentially focus on different parts of the input allowing the model to capture various aspects of the input data\n",
        "    # simultaniously\n",
        "    self.heads = nn.ModuleList([Head(head_size) for _ in range(num_heads)])\n",
        "    self.proj = nn.Linear(n_embd, n_embd)\n",
        "    self.dropout = nn.Dropout(dropout)\n",
        "\n",
        "  def forward(self, x):\n",
        "    # When outputs from all heads are concatenated, where each head outputs `(B, T, head_size)`, the concatenated result for `num_heads` heads\n",
        "    # will have shape `(B, T, num_heads*head_size)`\n",
        "    out = torch.cat([h(x) for h in self.heads], dim=-1)\n",
        "    # This layer projects from `(B, T, num_heads * head_size)` back to `(B, T, n_embd)` restoring the original feature dimension while integrating\n",
        "    # information from all attention heads.\n",
        "    out = self.proj(out)\n",
        "    return out\n",
        "\n",
        "\n",
        "class FeedForward(nn.Module): # <--------------------------------------------------------------------------------- key part of 3) Feedforward\n",
        "  \"\"\" A simple linear layer followed by a non-linearity \"\"\"\n",
        "\n",
        "  def __init__(self, n_embd):\n",
        "     super().__init__()\n",
        "     # Constructs a sequential container which represents a NN of two linear layers\n",
        "     # First linear layer: This layer takes the input embeddings of dimension `n_embd` and projects them\n",
        "     # to a higherdimensional space, specifically `4 * n_embd`\n",
        "     # Second linear layer: The output of the `ReLU` activation function is then passed to this layer\n",
        "     # which projects the data back down to the original embedding dimension `n_embd`\n",
        "     self.net = nn.Sequential(\n",
        "         nn.Linear(n_embd, 4 * n_embd),\n",
        "         nn.ReLU(),\n",
        "         nn.Linear(4 * n_embd, n_embd),\n",
        "         nn.Dropout(dropout),\n",
        "     )\n",
        "\n",
        "  def forward(self, x):\n",
        "     return self.net(x)\n",
        "\n",
        "\n",
        "class Block(nn.Module):\n",
        "  \"\"\" Transformer block: communication followed by computation \"\"\"\n",
        "\n",
        "  def __init__(self, n_embd, n_head):\n",
        "    # n_embd: embedding dimension, n_head: the number of attention heads in the multi-head attention mechanism\n",
        "    # `head_size`: represents the dimensionality of each attention head. Dividing the embedding dimension by the number of heads\n",
        "    # splits the model's focus across multiple \"perspectives\" or \"views\" of the input.\n",
        "    # The `head_size` essentially dictates how many features each head in the multi-head attention mechanism can consider.\n",
        "    super().__init__()\n",
        "    head_size = n_embd // n_head\n",
        "    self.sa = MultiHeadAttention(n_head, head_size)\n",
        "    self.ffwd = FeedForward(n_embd)\n",
        "    # LayerNorm(ln1 and ln2): Normalization layers that stabilize the training of deep neural networks.\n",
        "    # They normalize the inputs across the features for each sample separately and are applied before before\n",
        "    # the attention and feedforward operations.\n",
        "    self.ln1 = nn.LayerNorm(n_embd)\n",
        "    self.ln2 = nn.LayerNorm(n_embd)\n",
        "\n",
        "  def forward(self, x):\n",
        "    # LayerNorm: Before passing the input `x` to the self-attention module, it is normalized by `ln1`.\n",
        "    # Self-Attention with Residual Connection: The self-attention mechanism `sa` processes the normalized input. The result is added back\n",
        "    # to the original input `x` (this is the \"residual connection\").\n",
        "    # Second Layer Normalization: The result of the first layer + self-attention is then normalized again by `ln2` before being passed to the\n",
        "    # feedforward network.\n",
        "    # Feedforward with Residual Connection: The feedforward network processes the second normalized result, and again, the output is added to\n",
        "    # the input of the feedforward network (another residual connection)\n",
        "    x = x + self.sa(self.ln1(x))# <--------------------------------------------------------------------------------------------------------- key part 2) Add and Norm\n",
        "    x = x + self.ffwd(self.ln2(x))\n",
        "    return x\n",
        "\n",
        "class FixedSinusoidalPositionalEmbedding(nn.Module):\n",
        "    def __init__(self, embedding_length, sequence_length=5000):\n",
        "        super().__init__()\n",
        "        positional_encoding = torch.zeros((sequence_length, embedding_length))\n",
        "        # One column of positions from 0 to 'sequence_length'\n",
        "        position = np.arange(0, sequence_length).reshape(-1, 1)\n",
        "        # Computes the divisor term for the positional encoding formula\n",
        "        div_term = np.exp(np.arange(0, embedding_length, 2) * -(np.log(10000.0) / embedding_length))\n",
        "\n",
        "        # Applies the sine function to even indices and converts to a tensor before assigning\n",
        "        positional_encoding[:, 0::2] = torch.tensor(np.sin(position * div_term), dtype=torch.float32)\n",
        "        # Applies the cosine function to odd indices and converts to a tensor before assigning\n",
        "        positional_encoding[:, 1::2] = torch.tensor(np.cos(position * div_term), dtype=torch.float32)\n",
        "\n",
        "        # Converts the tensor 'positional_encoding' into a PyTorch tensor and adds a dimension at the start to make it compatible\n",
        "        # with batch processing. This tensor now has a shape of (1, sequence_length, embedding_length)\n",
        "        self.positional_encoding = positional_encoding.unsqueeze(0)\n",
        "\n",
        "    def forward(self, x):\n",
        "        # Adds positional encoding to the input tensor 'x'\n",
        "        x = x + self.positional_encoding[:, :x.size(1), :].to(x.device)\n",
        "        return x\n",
        "\n",
        "\n",
        "class BigramLanguageModel(nn.Module):\n",
        "\n",
        "    def __init__(self):\n",
        "        super().__init__()\n",
        "        # Each token directly reads off the logits for the next token from a lookup table\n",
        "        # This layer converts token indices into dense vectors of fixed size (`n_embd`). It serves as the basic representation\n",
        "        # of tokens before they are processed by the transformer blocks\n",
        "        self.token_embedding_table = nn.Embedding(vocab_size, n_embd)\n",
        "        # Since the transformer architecture does not inherently process sequential data (i.e., it does not have a notion of \"order\" or\n",
        "        # \"position\"), position embeddings are added to give the model some information about the position of tokens in the sequence.\n",
        "        self.postion_embedding_table = nn.Embedding(block_size, n_embd) # Learned parameters approach\n",
        "        #self.postion_embedding = FixedSinusoidalPositionalEmbedding(embedding_length = n_embd, sequence_length = block_size)\n",
        "        # A series of Transformer blocks (`Block`), each consisting of multi-head self-attention and a feed-forward network. These blocks\n",
        "        # process the input embeddings sequentially, refining and transforming the representations.\n",
        "        self.blocks = nn.Sequential(*[Block(n_embd, n_head) for _ in range(n_layer)])\n",
        "        # Layer Normalization: Applied to the output of the last Transformer block to stabilize the training process.\n",
        "        self.ln_f = nn.LayerNorm(n_embd) # final layer norm\n",
        "        # Ouput Linear Layer: Projects the output of the transformer block to the vocabulary size, providing a logit for each token\n",
        "        # in the vocabulary which will be used to predict the next token.\n",
        "        self.lm_head = nn.Linear(n_embd, vocab_size)\n",
        "\n",
        "    def forward(self, idx, targets=None):\n",
        "        B, T = idx.shape\n",
        "        # idx and targets are both (B,T) tensor of integers\n",
        "        # Token embeddings are retrived for each index in `idx`, and position embeddings are generated for each position in the sequence.\n",
        "        # These embeddings are then summed to produce the initial set of embeddings for each token, incorporating both its intrinsic meaning\n",
        "        # and its position in the sequence.\n",
        "        tok_emb = self.token_embedding_table(idx) # (B,T,C)\n",
        "        #x = self.postion_embedding(tok_emb) # (B,T,C), with sinusoidal positional encoding\n",
        "        # The following two lines work with position encodding with learned parameters\n",
        "        pos_emb = self.postion_embedding_table(torch.arange(T, device=device)) # (T,C)\n",
        "        x = tok_emb + pos_emb # (B,T,C)\n",
        "        # The combined embeddings are then processed through the sequence of Transformer blocks\n",
        "        x = self.blocks(x) # Apply one head of self-attention. (B,T,C)\n",
        "        logits = self.lm_head(x) # (B,T,vocab_size) # <--------------------------------------------------------------------------------------------- key part 4) Linear\n",
        "\n",
        "        # if `targets` is provided (indicating that this is a training pass), the crossentropy loss between the logits and\n",
        "        # the tagets is computed. This loss measures the model's accuracy in predicting the next token.\n",
        "        if targets is None:\n",
        "            loss = None\n",
        "        else:\n",
        "            B, T, C = logits.shape\n",
        "            logits = logits.view(B*T, C)\n",
        "            targets = targets.view(B*T)\n",
        "            loss = F.cross_entropy(logits, targets)\n",
        "\n",
        "        return logits, loss\n",
        "\n",
        "    # Used for generating text by autoregressively predicting one token at a time, based on a given starting context (`idx`)\n",
        "    def generate(self, idx, max_new_tokens):\n",
        "        # `idx` is a tensor of shape `(B, T)`, where `B` is the batch size (number of sequences being generated simultaneously)\n",
        "        # and `T` is the initial number of tokens provided as context\n",
        "        for _ in range(max_new_tokens):\n",
        "            # Ensures that only the last `block_size` tokens are used as a context\n",
        "            # In sequence generation, particularly in language models, the most immediate context (i.e., the most recent words or tokens)\n",
        "            # is usually the most indicative of what should logically and coherently come next. By focusing on the last `block_size`\n",
        "            # tokens, the model is made to consider the most recent context, which is more likely to influence the immediate next\n",
        "            # token in a meaningful way\n",
        "            idx_cond = idx[:, -block_size:]\n",
        "            # The model predicts the logits for the next token based on the current context (`idx_cond`)\n",
        "            logits, loss = self(idx_cond)\n",
        "            # After processing the input sequence through the model, the prediction for the next new token, based on the entire input sequence\n",
        "            # is contained in the logits corresponding to the last position in the sequence.\n",
        "            # Therefore, the last position in the sequence predicts the token that follows the entire current sequence.\n",
        "            # focus only on the last time step\n",
        "            logits = logits[:, -1, :] # becomes (B, C)\n",
        "            # Converts the logits to probabilitites using the Softmax function, which normalizes the logits into a probability distribution\n",
        "            # over all possible next tokens in the vocabulary.\n",
        "            # apply softmax to get probabilities\n",
        "            probs = F.softmax(logits, dim=-1) # (B, C) <------------------------------------------------------------------------------- key part 5) Softmax\n",
        "            # sample from the distribution\n",
        "            idx_next = torch.multinomial(probs, num_samples=1) # (B, 1)\n",
        "            # append sampled index to the running sequence\n",
        "            idx = torch.cat((idx, idx_next), dim=1) # (B, T+1)\n",
        "        return idx\n",
        "\n",
        "m = BigramLanguageModel()\n",
        "m = m.to(device)\n",
        "logits, loss = m(xb, yb)\n",
        "print(logits.shape)\n",
        "print(loss)\n",
        "\n",
        "print(decoder(m.generate(idx = torch.zeros((1, 1), dtype=torch.long, device=device), max_new_tokens=100)[0].tolist()))"
      ]
    },
    {
      "cell_type": "markdown",
      "metadata": {
        "id": "lrfhr3kWIn2w"
      },
      "source": [
        "![image.png](data:image/png;base64,iVBORw0KGgoAAAANSUhEUgAAAN0AAAG9CAIAAAAeJeSjAAAgAElEQVR4AeydB1gUR9/AF0SDMcUk9veLr+nExJ5EjfENUVEEkSIC0qQLSlNRQVEEaRbEThGliHRBpB/lAAUU6UWQzomAtIO7wxOB2891yHpe4+64g1N3n3lg9r9Tdmd+958+A8HYhaWA6KUAJHqvhL0RlgIwxiUGgSimAMalKOYK9k4YlxgDopgC480ljUZrbGwsLCysq6sbHh4WxSTB3knQKVBczHOI48olmUyWlZWNiYkhEAgZGRny8vJPnjxh98rd3d1VVVXsnrKU8+GFZTiYUFApEBMDr1oFQxDs6clbkOPHJY1G27JlS39/P/qCg4ODGzZsGBwcRCX0ltbW1vv376MSGo02NDREo9FQCbOFwQuzA0wybikQEwMvXYoQCUGIhVeVOX5cPnnyxNfXlyFdcnJy7t69SyQSk5KSwCMajbZnz56enp6jR48aGxs/ePCgq6srICDg/PnzOBzOw8MDj8fDMNzT08POS35+PkMs2O04pACRCOPxiAkNHdGREIRY/s1Y3l5h/LjMzMysrKxkeDsikXjp0qXOzs6wsDDwiEajKSgowDCMKr/29vbVq1ejmtLNzY1IJHL2whALdivsFPD0hCUlR7Qj0JFSUgigfF/jxyUej3/06BHDixKJxIsXL3KGrL293d/fH/XY3NyclpbG2QvqGLOMQwoUFyNESkrC0tKwhgbs4ADHxIw12vHjsqGhISgoiOF98/LymCGTl5dn0JeRkZGox87OzoiICAYuGbygjjHLOKSAgwPCpZeXIKMaPy6Hh4dlZGQGBgbQ1x8eHpaVlR0YGOjp6fHx8QHyly9frly5koFLNTU11BcOh6uurubsBXWMWcYhBaSlES5fV/sFFtv4cQnDcFdX18aNG7Ozs7u7u0tKSpSVlaurq2EYptFo8vLyfX19L1++DAwMBBR2d3fb29tTKJT29vYNGzYkJCQMDg62tbUZGRnRXl8cvAgsebCAuEgBDQ2ES/7aN+yCH1cuYRgeHh4uLS1NTU0tLCx8+fIl+lpUKjUzM/PevXuDg4O9vb0A1q6uLiKR2N7eHh0dTSQSMzIyiouL0d54Dl7QYDHLOKSAqem7XI7znUCAS769Yx6FnQIxMQiXenpIPKCriP4vlcpP/OOtL/l4x/7+/rq6Oj48Yl7GJwWIRITLOXPgBQsQC7NZsABWUoL9/WHuGX0HuByfxMViGUsKKCmN4CglhfQW0RspqTekSknBbW1cxYNxyVUyYY44p0BjI9Jtya4jnUp9Mwhka8s5pJGnGJdcJRPmaOwpgMcjihNUQ0cNTQBc5ubmamtrG72+9PT0Lly4MDQ0NGrEV69e5cZZVVVVS0sLQ2j19fUNDQ29vb337t0bGhoKDAyEYfjly5dkMhmG4b6+vuzsbAYv2O2EpwB982jUlxEAl9HR0Sg6r0a3CwsLXVxcRo1479697GYS0fvNzc0FfZz0Qsrrq6OjIzIykkajNTc3wzDc0dFx9+5dAGhnZye9e8wuCing5YXoy/Erx+m5BP2OK1eupNFoDQ0NL168yMnJodFoVCo1NDQ0KCgoOzsbzMDYu3cvkUiMiooKCgoqLCwEQhqNlpGRERQUdO3atZ6eHhiGc3Nzi4qKsrOzg4ODY2NjgYolkUhkMhnlsr6+nkwmX758ed++fZWVlS9fvnz27Bl4k8zMzICAgPDwcPAbGB4eTkhICA0NDQkJoe89FYVse+/fAQwLsauDMny+gPUl0FtmZmZDQ0ObNm3at29fU1MTlUo1MTEZGBig0WjV1dUnT56EYdjKyurQoUODg4M0Gi0vLy/m9VD/rVu3KisrwVRLNTU1Go2Wm5v7999/A0Z7e3vBYE9RUVFpaSngcnBw0M7OjkajNTU1JScnDw8Pd3V1hb7+ei8vLxAamUw2Nzen0WgXL14EyHZ2dlpaWjKkBXYrvBQAhfjSpdzGIBguFRUVrV9fO3fuVFNTe/78+dDQ0Pfffw+0YEJCQlNTE/pG1tbWAwMD5ubmHR0dQEij0eTk5Gg0Wnt7O6o49fT0qFRqbm5uREQE6vfq1as9PT3MXNKX44DLoaEhXV1d1GNsbGxra6uTk1NNTQ2IAlRGUQeYRXgpQKUivZsQxMM8I8Fw2dzcDMaswV8YhoeGhvbu3Qs+9fz581S6HtXbt2+3trYy1C8PHjw4ODhIJBJPnDhhZmbm4uIiLS0NuKRfTVFYWFhaWsoNl/39/Zs2bQr793J1dSUQCAMDA1euXNmyZYujo2NXV5fwcuIDCbmqChngGXUuurU1AqWSEg+pIhgu0XYPGjM9lyEhIahqhGH41KlTFArF3NycXmOpqqrSaLR169ahCy2OHj0KuMzIyECDBUxzw+XAwMCRI0dQj0OvL/TnQaFQ1q1bhw61o84wC/cpUFWF0EZvwBRM+k51sLgHguDp0+FXfZzcX+PBJZFItLe3B6UnhULRe92FZWVldeHCBSDs7Ox0dnaGYXjTpk1AQqVSpaSk+vv7c3NzZWRkQHPn1ZwPZWXl4eFhllx2dnbGxsaCWUugfqmvrw8op9FoFhYWL168UFZWBs0dGo1mYmLyIXBZXCzgGWgoW0Qi0hkJKGQ3AglByOCkktLoOhUNFlgEwGVFRUVfXx9DuMPDw/Hx8aiwsbHR0dHRz8/v1KlTYApmfHx8bW3tqVOn/Pz8Ll26BMgrLy+3s7Pz9fWNjY0tLy+PiYlpamqqqKi4ePFiQEDAsWPHQERPnz5tbW2lUChlZWVDQ0Ngoc/w8PClS5dyc3P7+/tLSkpgGH7x4oWrq6ufn5+dnR0YYe/t7bW3t381+93BweFDGHP39BzRZ25uaFYI19LY+NbUDSKRz+gEwCWfMWPehJYCbW2wm9ubWRR8LEcU2qtxGzDGJbcp9U64Cw1FCk20zicrK+DpuuOWCCLN5avuJKzVzA0KVVWwqelIXwxoZJiawjxuCsFNPOPnRqS5TExM5GZIc/xSS8RiIhKR1V5omxeCkFYIT9McReyD3ryO6HJJo9EWLVr08ccfczOM/uaDPgxbUhLSFkaXbM+Zg4w789QRI+LpJLpcNjY2Qq+v9PR0EU/EcXs9PP6t8hqCkPXagl3wNW7fwjki0eVy165dgMtly5aBTk3OX/IeP21sRNQhGMoDbZqlS5ESnO9eGNFPKxHl8vnz57t37/71118/++yzI0eOcNj2TfSTeCxvGBoKy8q+aV8vXYpsjPY+ldfsEkdEuRweHgaLymfMmEGj0T6EgRn6HCISEf5QBfn+VR/pP5alXUS5BO8qLy8PuGT56u+lMCYGqTKiDRppabaLZt7Lz0c/CuMSTQr+LXl5PKxAZY6GSkUmgOnpIZMbQPVRUhJp37zTHZDMn8mTBOOSp+Ri4RhMw+ZjALq4GCms6auPYDKYv//73KBhkYKsRBiXrFKFaxnYYk9Kitu2SF4esp5VVvaNagTDM2DZ/3vcvuY6RUccYlzymmJvuQcTdkZdSwUGZhgmg0lLI70/r0jFLuYUGBOX9HPUhWGXlZWdMWMGaJsLI3w0TOZ0GVVCpSI1QlAdZNezDdbzg+3OgEtZWaTsxlgcNXn54ZJGo5WWlsrIyMyePXuWMK8pU6aIi4sLMwYk7NWrV6elpfHadQ805fTpb4Zb2treTD10c3ur4vgBdvSMSh5nB/xwWVxcLC4uLikp+dMvUouWLX6nzcLFv3zy6ScQBAUHB3NOKYanYLYEqvlQ3Qn0Ivg7fTrP+0UxxPLB3vLD5Zo1aySnSkbgox62FhW0Fb/rJqU0bc68OdOmTeNSZRKJI3Mc580bUZCo7pSVRWb0yMoi03JHXY31wTLHzYfzzCWNRps5c+YvS37lA8qorGgHT8fLYd4PnhSwozmtAp9QkMTuqZDk8tu2QBBEv8c2u7RrbBw5lmb+/DfDg0A7Ojiw84TJeU4BPrlctGwxr4jYuR/ZY2sRkHDDzevk3xv/uVuXyxxCemWmzJaNvjHX3H1O3c6NY3YgJMlWNUUuuQRnJcnKwk1NyMAMuvZPSemD7gbnmbvRPIwfl3LKW1AVe8r3zOUw74K24vynheH4qHB8VH5L4cPWIt9oP6uje+815O09vj8wIfhBS0Fec35u04OAhKCMqqz8p4URmVExOXdAOA9aCkLSwkNSwx+0FOS3FOY2PwDU5jXnP2hhq49Zks0ll+imEXSr4UdLYOw5XykwflxuUVU4fe1sdm0OSmceIX/7TvX9TgcOudopaihnPMravE3u97/+2O948I+1KxXUFaPuxmgZ6xhb73K65PL3xn9M9+928HTUMd3pdMH5QUuBqo6a/ZljB11s1fV3ZNfmyGzZlPEo6159nqzi5oxHWSz5YyfkkkuwkTjdWUJ8JTnmiYsUGD8us2tzbE4clFXaLC27zv70sQdPCs4GnHc8fwKw4u5z2tXLPSAh6MCJQwVtxYdc7cIzograireqKWY8yixoK3b3PnXM43hBW/G9+rxtOtvTH2WeD7pY0Fb8sLVIZsvGgrbiqOwYFS1VLWOd4JRQdvyxk3PJ5Zw5yIwKbFSGC67G6mScuLz/5GFG1YgOy2m4v9dh/z6H/btszKKyYgAriUUppja7mbnUMtYBjSSP656XQ5GiP7fxwVYNpftPHtqfPrbf8cDRMw7LV60Agew001PV3c4OPg5ybrgEQ47Tp2MN7bEyx43/ceIypTRNQU0RJSOlNE1Fa5vTBeezAeeB8Eq4j537EWYutU10WXJ52s/D1cv9YWvRw9aivzdKF7QVh6ZFaJvo6Oza6R8XiEbEpYUbLmH4zQovKSnY2hrpUcfjkQ3DqVTEgvZlcpPumBvOKTBOXD5sLdI01rY4YhWcEuJ3219WcfP1O4HZdTmbFDdfCff2ueW3Xl4m8/FdlMsTF130zA0Si1LYcekbfW2bzvabqWEHnW2Xr1wRmBC8SXFzVs29nIb7Mls2plXguSQSOOOSSxhGVhvSrz+k70WHIGROBnYJJAX44XLWrFk/L1qINl+4JOBha9FNXJj9mWPOl11xpWnA1936XFfvk65e7tm1OQVtxdl1OSmvH+W3FIakheMfZ8c/TAQRZVRlZT6+C5rwsffjHrYWBSYEHzl9NCYnNrUi4yYuNKVsJExceTpq5/Ld5FTkuewnAone2Igsr1FSetNPBLrTMZUpEChhGOaZSxiGN2zYMGXKFL+Y6w+eFDxoeedNTM6dL776cvr06VyO9wgq6bFwOKQAP1zW1tZOnjxZXFx85qyZ74GRkJAQExNLTk7mkEzYo3FOAX64hGGYQCCYmJhIC/las2bNypUrhRyJtKamZmlpKaYsx5k8ztHxySXnQAX1tKOjo6ioSFChYeG8Qykg0ly6urrKy8tjmuwd4klQryq6XL58+XLatGliYmLd3d2C+losnHclBUSXSxwOB/aBOXXq1LuSmth7CioFRJRLGo22fPnySZMmiYuLf/LJJ9yc2CeoFMHCEYUUEFEue3t7KysrN23aNGPGjObmZgKBIAqJhb2DAFOguJjTZhAiyiX4/g9wHxgBZrwoBwUmwUhKIgtOWF4YlyyTBRMKLAWKi1nMaEHXSEEQMuWF+cK4ZE4TPiV4PKeCic9A33Fv4MxxdjNawAm7LCe7YFyONefz8pA9rsCWV+xKpbHG8c76JxKRqS0QhCQR8+Xvjzx6fcwY40OMS8YU4ek+KenNqkhpaUFOGQZzOvF4ZJbnK43C2aDnjqHr4OgtrzKes3eWT8HsUjx+ZC0yauF1lzk3NySJXkXBfIWGYlwyp4ogJFJSI4nO6x6+eXkj+Y0ygZLEMKdTNG+lpJDloNycfeHgwJZLUMoLUl8ODQ3l5uZGCvn66aefpk+fHhYWJtR48Hj8ixcveKXU33+k7F61ioVXoO1eFesODkgRhjKHbrg6Km1Ll474srZmoe1CQxnVGKrPRrW8WjeH/hh4tdjaIm8Ffo3gE0atuozKJctzdvkpx58/f/7zzz+DwZj34++MGTM6OztZ8MVGRKUiC9AkJZGtNRg0JR7/1gkmLPlbsGCEObSERTlra2MTpYiJwZZgDg6jV11A44bllnfgRF5paRbfxg+X1tbWECS2y8w6KiY1+k7GO21uxaYfOeoqITF5xYoVXE4QycsbWUpB/0OPiXlrfQXYmcjBAdm9DVVgDASzyI33UQQW3UtJseisyM9Hivi5c1l8Ns9c0mi0OXPmfPvdD4/ru2obie+HWS+zGYIgcAQ0i0SiE4EOYQhCdoNBOUOFUlKIBvX0xNbyvkkyKvXNL5ZdNebs2TfugY0fLmfOnLlk6YoxEqmhqVda2YIGEnQz1u96OHo7zhYV1R1cru9pa0N+4pKSb/36X60od3B4s+EgYxp/8PeNjUgjCWyhQ1+xkZYeOXPD15cxjSaMy61K2+m5LHvUWvbo6TjjiEbHPZcwjFQNIeg9P9aJEROh3bPrWhcVLkPC4wOCov2DbtkedtI3NFNSVnd1v1DbSMzIKt6upqWpZaClY1hY2lhc1qyrZ6KlY6iorHY7LrO2kahnsMvAaM8pjysoZHxYeOISPWwebI2up4ccZYLtWMQfuuy61kWFy+uBUV4+wZ7nr+63sa9tJNY0dG+WU6yu69qhqVdY2lTbSMRnl+yxOHDu4rXo2PTaRuKDwrpXgNY2EhcvWf6wuIEPFum98MQllYrUIKWl31SbIAgpj7y8+MuaD9oXuy5MkeMyODQOELNdXaeiunXhwkVa2oZa2oaa2gabNitU1XT4+UccP3HG3sFtm6rWK5daOgb0hPFn54lLeo6IRKRvGZTsEIR07GG7atGnz6j2d4bLm2HxKJeVj9uVt2nUNPS81qA9iSm55pYHQsITquu6issJahq6tY1EoDX5wxH1xTeXaLrj8W/q9QsWIHRiexygicPBAnqRmId8JkxfKiiq4tIf3s2tBMb3Whgox+m5rKrt0DfcHRh8u6ah28cvxN7BTU1dJz2r6FHNMxe3c1sUtlXXdYkIlyDpY2JGtrgGrU5TU6TzErs4pAAYImee1TFhXF66ErjP5ihqYu5k4NIfJqbkZd0rA2rs6vXwx/Vd5VWttoedNLUNHJ09qmo7M++WGhqbGxqbR8emnzpzJfdBtX/QLVTt8W0Zu76kT/pXmtLBAelLAnSynLJA7/5DtoMuNua5IPxw+f3338+aNWcCu3X45o+lx8f13cuW/y4uLi7YVUQxMUi9U1YWK9D5+d3xzCUMw9euXYMgaOmy3yysDlrttX3Xzd/SGyAI0tfX5yf9MD/CSQF+uKTRaLa2tuLi4u/HpA0xMTElJaXBwUHhpDAWKj8pwA+XIJ7nz58/E/JVWlqKw+GEHMkzMpnMT8phfoSZAvxzKcy3Ggk7KSnJxcVlHCLCohC1FBBdLmk02pIlS6ZNm4aVsKIGzTi8j+hy2dzcLCYmBkFQRkbGOCQEFoVIpYDocmlubg7aVStXruRyxq5IpSz2MmNJARHl8vnz5wYGBgsXLvzss8/s7OxaWlrG8pGY33cuBUSUy+HhYRqNhu4DI9ge73cukz7AFxZRLkFOoFx+gBnzgX8yxuUHDoCIfj7PXA4MDFRWVkZHR/sJ//rvf/87depUHx8f4UfFWwz+/v6ZmZlPnz4dHh4W0Yx9x1+LBy5bW1v19fUnT578fgw/CuQrZs2adePGDayHVeC/Aq64HB4ednNzExcXl5CYvHmz3MWLl+7dy6moqKysfCRUs3z5iq++mlFaWi7UWPgIvLS0PD4+4cgR+x9++BGCoLlz5z569EjgefMhBzg6l8PDw+rq6hAErV37vwf5D0kkMplMGR+zevWfs2bNJhJ7xyc6PmLp6SF6e/t88cUXkyZNiouL+5BJEuy3j8IljUYzMTGBIMjU1LSnh8hHzo3Fi+hzCb6urKz822+/FRcXLy8vF2z2fLChjcJlWlqamJjYtm2qfX2ksRDGn993hUsymVJeXvHVV1/NmjVrYGDgg4VJgB/OicuhoaG5c+fOmTP3yZMWBrBIJPLjxzU4XGpSUrLwzMKFv0yf/kV8fILwokhKSi4vrxDIr87PD5kuffHiRQFmzwcbFCcuHz58CEGQm5s7A5QdHZ0aGjsmTZokkCbthAciJib2t7R0XX0Dw2fyeksk9v7yyy9ffPEF1nk09p8TJy6tra0lJCRqa+sYcsjKyhqCoGXLf7aw3PEemHXrV0EQJCcnP/Ym3fHjjq+WZDQ3N489Yz7wENhySaPRfv31VympnxnKuN7evv/7v69nzfrqaVsyiZL1HhhiL3758oXi4uItT1sZfoG83qampb1a+XT79u0PnKqxfz4nLj///PMNG2QY8qanhzhjxswVK35lR2QfOdPhuElLaxKzg5Awl7ZnKfTy6JjTjc1x9JKsu377bbSTki/RC0mUrPiEc7fvnEWFWXev5j0IQG/HaNHYIQdBUG1dPcPH8npbUVEJQZA/tufGmMFky+Xw8PCnn34qK7uZIW9G5fJerv9muf95nj/AzIqpmWpD01sUHjy0s6QsDHX5rBOnpLy++UmCvoHS49oYVE6iZDk6mf3407c1/wp9r9oHh7jSOxiLfYemPAOXBQWFzs4u3d09DJ/P+baxsWny5Mne3t5jzpcPPQDBc2llrV1Td1tl28Y+ciaJktVLygy+6WJqtu16gKPJrm0NTXF95MyIyFOmZqrePvb7bXTouezoSlPXkOslZZpb7Kirj6VHzdHJ7IqXvbrG5l4SnkTJQrmsqYs5eGinlbVmTp4/iZIVe8fzYeHNg4f0HlVHZ931c3E1t7LWLKsIDwl1MzXbFnnrNHgr+pBJlCyUy66u7sDAoL///ltcXPzw4SNl5RWoefy4tre3jzOXTU3NU6ZMwbgc+69KwFy2tCbtMlUjUbIO2erfy7lOomRd8Tp8xmM/sQ8fn3Dhhx8WNDTF3Qh2Pu5o1tObkZbhvXDhD/RckihZp87sU9j6T2iYGwM6jk5muDTvs542Fy4eQrlse5aisPWfqse3nrYla+so5BfccHWzNDXb0dAUV/Eo6s81y6troqtrohcv+Tk+4WI3MWOHplxt3W2GkFEunU44z5k7l0P/wMyZs3btMq18VMWOTozLsRMJQhAwl1e8Dt+46dz8JD4z28/YZBuJkqWppUDsQzQciZK1ffvGhqY4LW2Fnt4MIDE0VKbnMiHxgoWV1r79OxMSL5SUhRFaElGGAJfEPrzKNpmS0lCgLwOCnIJunABuSsvDbA7qubpZZmZdJVGyKh5F2doZgkfqGvK9JER5nzxlnY73QsNELUBfVj+uuXMnTlFR8aOPPoIgaJOsrKWlFWoMDAx//PEnCII+++zz4OCbLBvvGJeiyGUvKVNJeYPNAR1g/vpreduzlB2a8mj2GxopNzTF0Uv27tOm51Jl28ZeUmY3MV3fQFlTa0vV41uoX8DlK7grq6KUVTZcvmIbHOLqed4mIekicNNEiDe30HR1sywtjwBcnnA2B4/0DVSB5dTpvWkZV9AwUQtajgNFWF392P7oUS0tbSLxrYK7t7cvKOjGjBkzJCQmR0ZGMWtNjEtR5PLuvWtH7I3RzL52/biPr/0uU7WKR5EkSlZnd9rixT81NMVZWmsVFt8kUbK6iemr/1xGz+VWxfVAud7Nuf6f/8x5wqQvQeB+1xyWLV8YHOJ6Pz/I0loLCK9dP+7tay8QLgFw3d09LCuUubl5n3/++ezZcwiEJwxoYlyKIpeOTrtLy980rts7cMYmqo+qo3Zoylvv1dy9Z4eVtXYTIaG+MVZTS97KGpHst9ED1AK2/AMcd7x+ZGS8LQV3xe6wESh/SZSs8xcOZN+7Bpz1kTP19BVjYpFuo9Nn9hkaKpuba1haaXf1pF++criyCtGy1TUxFy/ZAvcHD40U6D6+9ndz/ICQ/i+DvmSgjfn21KnTEAS5uLgyPMK4nEguZ86c+cMPC0C7mD532dl7Sfi2Z8n07ntJmW3PktF6J73Hrp70tmcpoNXcR85k2Xymd/9aE6c+68Rx45LBI3q7WW4tBEENjU0MnLG7ffq0ddq0aX/+uYahlolxOWFcksmUzZuRXugDB/WSUi4nv/vmzNn9kydL/PDjjwwjW+ygBPLlK1bMmj2bwQvG5URyWVRU/J///B+H/pR37tGnn36WmJTMGUSGp2vX/u+LL77EuBQUiAzh8NxPBLKnqanZ89x5CwsLc2Fec+fOnTr149279wgzEnMXF1cOXZIMOKK3GJcMJPF3i54rzLAdPZ9cotkjVIsozwvGuOQPRHpf6DkeYMNv+oNmMC75XKuEcUlPGK92KhU5mQ+cLKOhMXJwNP1G9Hxy2dbWfu26v6urm1DNzz8vnD17zglnF6HGcunylUauW+Jo+YBxySuLqHv0JNMFC0bOfgWnno2Vy8rKR9//8MM717jh8MIzZ87Mzr6LMseNBeMS5YxXS1LSiKZ8dRgFuATDpZKSMgRB2wx2nQ2LOxeR8E4bz/B4k0MO4uLivy5axNC45kwnxiWvOKLuX52l6eDw5pRsGEaO4YIgRIhePJfjRGLvzJmz5n/3Q+ZTSnY79T0wWW3P12yQhSCosamZM4v0TzEuUYbGbhEAl2Be8C/LfhMIkSE5ZRZOp1ETdr+S+2Azn1I8wu5w756DSzk1bYZ5wfQIsrRjXI4dRzQEN7cx60vBcunkG2zu4HYzpwyYlPpODvQwPMI/IW1W02IQ8neLcYkiMiEWa2uES/rlJzyX4wLn0uGKPz1M+KcUt4AIk8NO19PuA7lfyj2Tw04ng6IyW/uz26m4hi47T28r5zPRRbXjzGVnJyUxkZqYSM3IeI7pSwESDPqMkpLeBDnxXFqdOB2eXx2eXx1VVJvV9tzk0DFH78Cowhodi/1X7qSfj0zUsdgfVVTrcMXf3MEt8ylFXl37cmxa+INKXYv9m7Zp0DPNt50bfenoOIAe+QhB8Pffe2DjkG84GoONSoWnT0eO00Sb5zAMTzyXG5TVzI66mJoHG6sAACAASURBVB11sTl1MeMJab2CSvC90uB7pX64nO1Gu7dq6vmn5wPJRqXtwdnFJrYOgL9bRbUbVdT5ZpHeI2cuExOpv/8+DEFI2q1dO7R27dCWLUMrVmhjXI6BxjdeHRyQQlxW9o1EJLikL8dx9Z2/rPjD8sQZYFwDIv+SkbNwOgVu97qdOxeZaOfpBZBKbyLKbtekx4tvOzsuQ0OpixcjREIQ/OOPwzk5z9E2EFaOv8URvzcASklJxgOxJ15f0nOZ+ZQio6QKeqBiSuptTp5XNzGPKqjJbqdmtvYb2hyOKanfbmiW1fY8u53qk5Apo6zGN4v0Hlly6e4+AIj8/fdhf/8XKJHAgnHJL4pv/MXEID94SUmYvmYJHk8wl85+oY7eQfSIuAVEyKtrWzid3rRNPbLgcXh+1T/yihZOp5R1DU/duJXdTt1zzEVrz949Dm76e201d1nQ++XbzsxldDRVUhJJssREKgORGJdvyBqDjUiE58xBuHRzYxHKBHPJkqSUuo7gnNKMJyTwFN9CuplTllz7DHUcV0mILq4DWhMVjsVCz2VlZb+7+0gTx9ubUU2ijL6v+hKdeIbHI2Urf4Zh0hoL7mAkZFAcgb+yskg/0auhIHCJIpdjIYw/vyiXOTnP0cRydBxAKWS2vFtcUqlvCPP0REb8HByQpoa0NLxq1Vt8oJ8/RsurWDhfRCJsaoq8gLQ00h4H0UlJwYBpjEtkKBXl0t//BUgg+gplTs5z0G2J/u3spAiVS6ClXs1HBAA5OIzkH8hF7v+i+c0NZKtW8RkL8/soKcFVVZyxfOsplQqHhiK/k38Tf6L7ifhTbwL3hXL5GrghCIJnz6ZlZCCt78LCNxqUIXclJB7+9deQnd1LO7uXoaFIf3tiYhtP+8C0tSFqLDQU4U9JCcGCIQpB3aLMKSmNsO7vP6JB29reQmRib7y8kBRA+onZvQfnfbMENT4ucML4CxDlEpTXhoaDAIh9+162tFAAeejftWuH0M4jdtwsXcpJ94D6Pju/UlKIXw2NN8oyKWmEIZ6UELucFXE5GJMcPy41TC1lt2sq6Zko6ZkoG5gm17bzx9CovuTVtMGI5aguUQcMXJLJFG/vF59/ToMgePHi4bq6fpb1y88/X5qQ0H/u3As7u5d79rxcu3Zo1SoqBBHZAccgBzoMKDCgvegHPEScHuG9XlXV60KDXQQC15dqxnuiHlajKAAL/iklndAHWtaZrf2Zrf34pxQOVGW1PU8n9OH/nWKHbyFntT3Ht5BBBycISnabBocQGF4A3DJzSSZT6ur6gV6cP59WWcmIJuf6JX07g6FJ29jILskxOZICenoTzaV7YOQWDV01E3NVg124hq6TgZEmB4+qGpia2Dr4peRkt1Mv3U7V3L03u52a1dqvY74/8XHbNj0TNROLzds1L91OzW6nbtc30TAxt79w9Roud4uGjoap1U7LA+sVVATCJZlMaWnpl5FBqpuff07z9n7R2flmMRBnLjHE2KVAcfFInYTZAZU6AiXSXGN+DCTC0JebVHeActzW0zuhunXzdk0A0JU76aaHHU8GRmrv2ZfdTg1/8MjogH12O9XQ5oiStkEGoS80t9zo4FH3gAi/5HvZ7dTEx23KO02y26lLfvsjsbo1s7V/k4p6akN3djv1VlHtT78uFhSXZDKls5OCVjclJWFV1UEwGolxyY4cDnL6Psvp0xEKQYcDHg97eo70WC1YgLTlx5VL+nL8XGSC7dkroBjNau3fqrnzZGCkR8htoB2VdQ3xT8nau62PewX6JmVbOp26kV2UTuh1uRayz9Vzn4vHptcj49v1jJGZb409KjuN0AJ6w9ZtAuQS1CwTE6lbtgyh84m2bBmSknLE5m1wQJDlIyIRac+BfiWG2ja4XbUKBv0DE8alX0rO7qPOAKbUxm6FHQiXnuFxQGLpePJceJzNyQtxFQSzI05qBqZZbc/1rA/5Jt3NbO1PqeuQ36Gb3U5VNzTNbqemE/oUNfVGEG/rX7N+k8C5BHR2dlLc3Qdmz0baQxAEf/zxYYYlQdg+MCxxZCkkEpEBHrSD1sEB6S9DrwnjMqOFJKOkevNeaTqhb6f1odPBMfRchuSU/bx4WfiDR9ntVCVtfTC3TWmnUWBGfnoz8YD7OWl5JXwLGXCZ1fZc3cT8Ugwu8ynF/sLV5av+FBKXKJ3+/i/mz/f/7LO/MS5RkgRrGT8uL95OpR/jzm6nJlQ9NT7koGZi7hkRn9X2PPzBo6jCx0DtZbb2H/cOAnhdvpMeWYDIY8uadu611dy91z/9gfO10OiShksxOOA+rYlo7ewBgrp0O5XXoXOW7XHmviF6CVa/FCyIDKGNH5cAINH8i3HJgMWE32JcvjU+Tq8ROdsxfSlUdvnhctasWfO//f49XD/eiK0fFypsPATOM5dkMgXst7HdaPfJ4Jj3wJgedpKQkPjll18YGjGYvuSBI0E75YfL8orK7777jsN2P+/coy+//DI9PYMziAxPsXJc0Ci+FR4/XJLJlKdPW318fW3tDtva2gnPWFha6hsYCi98EPK5c+freT/kGePyLY4EfcMnlwzKQ0i3vlev2hw4IKTAxxgsxqWgUXwrPNHlsq+PtHLlyjlz5nR0do2RIWF4x7h8iyNB34gul3fv3hMXF4cgKCAgUBhgjTFMjEtBo/hWeKLLpYGBAWg//fXXWoZjcsaIlEC8r1ixYtYs7JyUt2AS4I2IckkgPPnhhx9mzpw5derH333/fX7+Q4HAJKhAWlvbPvnkU+xcKQGCyBCUiHJZXf24uZkAzqN4+rS1pKRMUEgJJJwzZzwgCDrh7MIQGjafiAEvvm9FlEuQ36J5Tkpubt706dNnzZr15EkLxiXf5HH2iHH5ZmkEA2TMt719pBs3gr+aMWPSpEkREZHMDjB9yZk27p+KOpfTpk07eOiQrZ3dhBtDI6Mff/wJgqDPPvvsxo1glk0xjEvuyePsUtS5FJ0hTTExsZkzZxkbm1RVVTNrSiDBuORMG/dPocHBQZau2a07Y5clwpCvXv3nl19+lZOTe//+gwk3lZWPiL19nD8T45IlS3wIobNnz7L0JiJczpo1m0js5UyD6DzFuGTJEh9C6NNPP2WpMkflsrGxuaSkVKhm2bLlX331VUFhkVBjqampZVlZ5AN3jEs+EGTpBam/1dfXMz/jwGVnZ5ehoZGkpKToVP7G8iYSEhLy8luamwl8gMjgBeOSGST+JEiGPnjwgNkzBy4PHjwEQZCU1Dcmu1R37dr+rps/Vi6CIEhRUWnsWhPjkhkk/iQIlzk5Ocye2XHZ29v33wULZsz4gtCSSKJkvQemm5ixZMlPEhIST1vbGPQfr7cYl8wg8SfhmUtwrtTy5b+wI7KPnBkQ5NjRlcrsAJd2+VnnW/LMLJ+W1rf4flwbc8XLtrQ8nMH7vdxreff9UWFRyc2yCkY36FNeLRo75Hg9h48lshiX/FHI7ItPLles+JVd3peWhf3xx+Jr148zOzA1U21oiqOXHzy0s6QsDJV0dqcpbP0nA++zXW1jY/NbLh2dzBb+8j0Kse9V++AQV9TjGC07NOWZuSQSe3v7SCz5YyfEuGQmjD+J4Lm0O2xUWBSyXU22j5xJomT1kTOz711zP2mRgffdZbqtoSmuj5yZ9yDQ/aRFMu7KgYO69Fy2PcNpaW/pI2faHNB7VB1FT5ujk5mzi9UuUzUQLMpl27MUL5/D587b1NbfJlGysrKv1jXEevkcbmiKq6yKDAlzO3fBhvAkAbxD7v0A+jBROz2XJBK5vr7B2dlFW0eX1y4qjEv+KGT2JWAuO7pSDQxV+siZ5hY7iktDSZSs8MiT1vt0iktuXrpit2jxTw1NcQlJF3eZbi8quel3zWH58l/ouSRRspxO7DEzU/c8dwDwh6Lj6GSGS/WytTMMCz9JomQBLrt60rdt25iYdPFe7nWVbTJVj2+5ulkam6in471LysLX/u/3pOSLSSmXVv+5zMf3aGHxza1b/2kmJKBhohbAZfXjmpQUnLq6xtSpUyEIUlHZdozuOnvWMzU1rbu7h52yJJMpGJfMhPEnETCXwTddQPGakxew30aXRMnS0t7a1ZMOCNiy5e+GpjjdnYpo7VNTU46ey/yHN4yMVbV1FO7nBzY0xbV34FB0EC7TvDu6UuXk/65vjAVcRkSe9PI5AtzkPQg8Ym/s6maZlHKJRMmqeBS1bz/yAiRKlsq2TcQ+PImS5X7KOiPTGw0TtQAuTzi7zJo1C0kR9te333539aofuxW9GJf8UcjsC8kBntrjoN3Dsn7ZR85U3b5J32CrkbGSkZHS738s6upJ19ghh2a/sYlKQ1McvWS/jQ49l6rbN3V2p7W1J2tqbdljrllWEYH6BVySKFk5eQE6ulu9fQ4Hh7h6nN2XlIxQSKJkPXmaaG6h5epmWVqO+Kp4FHXC2Rw80jdQBZZTp/emZVxBw0QtaDne1v7M1/fqqtWrxcTE9u7bd/fuPdRERd2ysLCYPn06BEH6+vosi3iMS2bC+JMIksuikhDrvdpoZnueOxAS5qanr9z8BCk6e0mZq1YtaWiKMzZRra2PBVVPGZk/6blUVtkIvOfkBfzf/82lb7yjXJIoWa6ulus3rA4OcU3P8HE4bgq8xMSePX1m7xi5BGV0Xx8pJyfXwcGRudSura1bs2YNBEEHDh5i7u/EuOSPQmZfguTS5oBeTt6brhxCS6LKNpn7+YEqKjLnzu/fvUdDUWlDQ1NcaXmYotJ6z3P7LSy1VLfL0nPp4mphYrrd4+xedY3N3r5H9+3XRWuZ9Fz29Gb87+/fgkNc+8iZ1nt1Dtnqu7qZa+yQa2tPEQiXHGqQr9fOty1c+IvE5MkFBUUMLjEumQnjT8Inl1JS3/aSkOY2N6azOy3vvn9HVxrquKsnPe+BP706RB/VN97JfxgIqoO9pEyUS9QBs+VRdVRxSQj378McwhYFaWQ8tqGRgTN2t7GxdyAIMjU1Y3CAcckfhcy+eOaSTKZs2LBBTEzM6cTuopKw0vKId9qUlIV7+9h/9NGUb775pne0aWwohURi79y5c3/55VeGohzjkpkw/iT8cJmXd3/mzJmIz/flmjp1akzMbRQ7biyrVq3+8quvGBrmGJf8UcjsCyGLp/Y4yLOamtrjxx2NjE2EambPnjN16lRDQyOhxmJra1tQUMgNi/RusH0NmGESoIRPLulzSHh20VwPCb4X41KAFDIHhXHJw3pI+l8gxiUzTAKU8MklDpcqLy+/aPFioZqPP54mISHx66JFQo1lzZo1ly5fZqgp0iPI0o5xKUAKmYPih8uEhMTJkyeLQdCMr76cPWvmu24mTZoEQZCd3WGGxjVLHFEhxiUzTAKU8MOl9D//TJo0KSHIndaMgwmp77ppygv5v3mzJCUlW3mZF4xxKUAKmYPih8t58+bN/8+s4fcCSvCjMtJUeDWBqKy8AlWHo1owLplhEqCETy6/mT+Hs5osSvKuz7lB76Y42af5fgi9BNgr0q8NNaag8iq8/0B9EnoLE1IfJnjRK+aiJG969/Qu2dmLk32Gmzip9l06ihiXAqRq7EEJi8sdyjIaijIoKC/qkn7+8VufkzaoBLVYGKn31yQk3TiZEnIGJqR6udsQK++gT2FC6lZZaXqqdijL9Nck0jsY1a6jummgPpmDM4zLsZMk2BCEyKWWqnx7cRSgIT7QTVdti89Jm5f1SV1l0UDYXXbrRV2ihZF6Z1nMZRdrL/d9xIqYxrxQBobYcdlaGBnpfaws9RoIjVhx+7afU8rNk0Dd0ppx1ZmBkd7H2ooiMS4FC804hCZELhOCPTyPmwNoDDUVbvu7+Zy0acgNcT5kAoRutoaVGf4WRuo12TcMNeSMNLeU43xtzXU6y24DB+AvSy5LUq7qqcunhZ4+cdDo2llbYmWslqpsys2TN84ftjZRhwmpwRftD+7Rygg/Y2eh87/VyxlYpw8fJqRi+nIcUOMpCiFy2VF2W2vb5uFm3JP8cGtjNXzkOXZc9tck3L7mfCfADSakAi6Hm3HDTSnDTSm0ZtxfK5ea6Sjs/tcs+vn7/ppECwPV7vLbw00pQ40p+jsUGvNCCpN9ac24lw3JWzethQmpGiqyoGU22JD85x9LMS55wmLCHQuRy67y2DPHdj9M9D55xDQ/wYuZS9dDBkBfMnMZctl+z05F2z07BhtTWOpL2X9W7dbdumen4p6ditaGKu3Ft5wOGHk4mPt52Mpv+BMmpGqrbkaVoqbKRozLCUeNpxcQLpeE/DArY3WtbZuHmlIAl833w45Y6QJijLW20nMZ6++K6ksUKXbtHrOdys9KbsGEVFoz7pLLXjc7k8JEb5iQ+rIhefO6VYi+VN403IQ08wfqk1b9thjjkicsJtyxcLmkNeO2yf/j5bYPJqQCLhFu1v8Z6eNw9fSBrbLSKJe5sZfUtq4rTvLisn5ZlOyzXWHdnevOjjYG3u42MddOmOoq37nufMRKT3bdqsqM62FXjlkZq8UHuNiYaW7Z9D+MywlHjacXEBaXXWXRQ6/VVW/l7YE6pD/yRV0iuToOJqQSK2MTg1yrMgM6S2Oe1yYSK26DiuCz4ihy9Z3eytvAI6oyO0tv0fdfdpVFA/cdJbcSAlwq0pH2OK0ZV5F+PemGW0/F7d7KWFJVLK0Z15B7MzHItbs8hlhxmz4ENGTUgrV7eIJmHBwLi0s0y98JC8blOKDGUxQYl8j4PsYlT9CMg2OMS4zLccCM5ygwLjEueYaGGw95eTCRyI1D1m7Gj8sn+eH/W7W0vyYB1DifFUeVpPjChNTm+yHVmQHcVENRL0HnD9fcfWtSCDfeObjBynHWdPArzcuDIQiWlIQdHGAqlZ9Qxo/Lk0fMju03DPdyAHwUJvledt0LE1LTwjxCLx/jAA366LUXpMvpaUEE5XE8Kh+7BeOSH3bY+GlrgzU0EC6BWbqUHzTHicuB+mRjLUVydbzmNllaM66zLGb7Fum1KxdfdrHeKvOnzNrf0kJPUR7H25hpmuls3aOv2loQ0Vt5x9PR0tZCx0RLwc5Cp6M0+rWXJXHXncK8jtfl3ByoTzpqvdNMV3GXjvLDBKRT/ZyTlfsRM1NtBSOtrX2P3pqUxJldjEs2jPEs9veHp09HiJw+HY6JgVetQuwODjyHM05cJgWfvHHhCExINTdQrbsXDBNSmfWl0wHD/HivV63jtsJIc33VjpLoNX8s7X+tFw+Y7ShLvYbqS09Hi/J0/9NHd8cFutGacZTH8aoK6/trEv5atbwxD5niGeXrePU0izl17OjEuOQZHFYevLxGdKSt7UjlsrgYkcjKsnLNUTZOXKorbvBx33vzot2h3TvsX49DMnO5SXrVfhNVm13bbXZtX7n817aiqIN7tAFJ3q5Wd6MvMHCpqbIJnSB8ztEiP8FbX1MRuC9O9j5z1IwdhcxyjEuOkHD1sLERqVBCEIzHv+VeUhLRnbxe48ElIT9MT13ubpQnMHIb1rxsSGbmcofKJnLVHUp1HKU6rgrv/6z4lq3FyEi6j5s1Sy4HG0Zm+562NytI9DHSVgbMlaT4YFzyisIY3SspIVDa2jIGM2cOIuf1Gg8uXWyN8+5cRrXU+RNW8YFuxSl+rnYmw00pGRGe3u77h5tSnA8ZxVxzpjXjGnNvmultY+ayOOWqq92u4aYUUI57u+/3P2uH1FZLo5U2S7+oT8K45DX7Bege6EXm1jdo/fAakdC5pDXjvN33owUuTEjtLIsOuWRPrU08vk8v3t+5r+rOEUvtjLDTLxuSTxw0NtXZut9Uo7M0mlQVF+vvAmi+d+tc3b0bqJeMiLNPCyKGm3AXnCx371SyMlKrz0HqrCH/tutb8kPTw5BVGVwarBznlRsG91VVbOuREAQvWMDgfPRboXPJJRkT6wzjcnRSOLrA4xEura0ZHYF2j5ISo3zUez65XPD1bM4zdCaWM15jN9Heiq2HHJUVDg6IRNjNDW5rY3Ti6YnwOk79RIsWLfr446lP8sN5zX7RdD/YmPzXyiViYmJ19Q2jLhtHHfC9fvzevXsMB8UWFBTQaDTGLH0v7kFjiKGFzs2X8aMv3U+egiBowfx5eury+hpb3nWzasWvEARt3LhpfPaB+frrr62srOhBXLNmDf0tN9n2TrihUpEeIknJ8RrvIRJ7Dxw4+PHHHyNQv/uXuLi4nJx8Q2MTqgu5sfCtL5ctW3bp0qX79++jbIk4l1Qq0iXJ3NBG35+dJSYGKcT5qFzCMIxgxce+rCQSuf1Zx+PHtQwmPQPvd+06g5Dv2+KSUh/fq3x7Z/CYlJxy82Yog/Dx49pmwhOeNCWglm8uly9fPjw8rKCg8Pz5c5CjgMuhoaF79+6heZyRkTE8PIzejrOFSIRDQ5F2zNKlCFsQhFQfeb2A35gYXv0h7vnkkp1GsbM7vFlOjo9sZhng1at+a9euFVRoVlbW6uoaggptLFzCMNzd3a2hoQGKb1Rfpr6+aDRaWFhYaWkpP/k5Zj+hociwITrrAvTyaGjAjY28BQ2U5dKlvPlCXQuSy66u7q+//nry5MnlvGxAxZJIMplCIpFXr14tLi7+4MFDdm64l7e1PZs5c+bUqVMbeSyv2UUxRi5hGI6Ojr5z5w4MwyiXMAzjcDhtbe2SkhI0h8bHQqXC/v5IRyMgcs4cWE8PmXjB3MTm5n3a2mAwzMOfshSwvrx5MwTUNg8ePMQuO7mX38vJFRcXhyBo1y5T7n2xc+nj4wvezcXVlZ0bnuRj55JGo+nq6nZ3d6Nc0mi04OBgBwcHHA7HTfaP3c2rlrKDAywt/UZBSksjJfgYLxCgnh7/wQhMX5JI5HXr1oO8nzt3bmdnF0/ZzOzYyMgYhDZ9+vTW1nZmB9xL+vpIv//+Bwjthx9/7O3l7fRmlhGNnUsYhvv7++Xk5BYvXkx7fQUGBpaVlcEwjMfjhYomHg+bmo5MSAMKcvp0ZNJkcTH/JKE+QZ+llBQ/TSU0ECSzWCbB8PDwp59+Kiu7mWWuMAtLS8v09PR/+umnr76aceDAwaioW8xuuJc8edKyebPcokWLJk2aZGJicvWqH/d+mV3m5uYZGBh++eVX3377nampWXIKjtkNrxKBcAnDcG5u7tdff02j0YaGhmpqatCMKS8vF3jnUVsb0nxBC2vQWPb0hPPy0GjHamlrQzqGJCXHijgkISFhyzwJBIZ55bKnh/jsWceXX375+++/k0jknh4irzlN776zs6urq+e7777/73//29vb19b2jP4pr/aeHmJe3n1xcXFtbR0ymdLZ1c1rCMzu+eaSgTagKceKw2j+Y2LemkMuJQV7eY1p/Q27CMFMdVZAsfPBWg7Jycl98sknAwMDDM955ZJMply/7g9B0OHDR5hzkQ9JfEKimJiYgYEhH34ZvPT1kZSUlCEIio9PYHjE9y3fXDKks1BvGcrr6dOR4lsghTXzayclwVJSSD11zpwxleAgZKiiogI503jvXobfMa9cVlc/njt37mefffb4cQ3fmY16JBCe/PST1OTJk+/ff4AK+bP09ZEcHI5DELRJVpbXQyc4xCjKXFZVIV2PDOV1aKgAcGHGEUiIxJFJwZKSsKcn0g/PzrALgUEO0Wi0/fv3QxBkY2NDP27LPZckEjkrO/u7778XExO7eOkyh7zk5hGJRC4sLFq6dBkEQUePHuPGC0s3oC6Bz8zcvFkOgqCffvqpnpfhb5Zh0gtFkMu2NoQJoLRAa2bVKqS85q+vhwEUzrdJSW9a9PR9n8x2LudwIDOJh4eHLS0txcTEZs6c6eHhUVxcXFFR8fDhw1enJi5ZsvS6fwAwV/2uXb58hcG4uLjKyspKSEhAEPTXX2uvX/dH3fNhOX3mjLKy8kcffSQuLr533z70IFESiZybl2dlZbXmr7++5/qaMWMGBEFiYmJbt24VLJRkMkV0uKRSkZ4dMEMCcLBgATJvvKqKM0uCfArmE71iblTDZf/8yAx3Go2Wn5//22+/iYmJgf6UiforISHx559/xsbeQQdm2tqe7dypB07Z+eKLL3/+eeHChb9wY1auXGVqapaalo4GRa/wxmifcC6rqhDtSD82M3060hnOx+QdQRIqoLDeWnlBo9EoFEpzc3NFRUVBQcHUqVOXLl0aGBQEjL9/gO9VPwYTEBCIOhi7JTo6pqr6MT1G7e3P1qz561Vn1p9/rklISOwSRFN6jEQC7xPFZUwM0nahrztKSiLK0t9fiNVHAcHGQzBvcUnvj/v6pUCymV0gJiYmEAQZGhmNseOJXfh8yxctWjx33jyGhpTwznmOiUF0IViaDQrrpUuRwjopiT7T3h+7SHNZWFQsISGx4rffRA3K2tq6KVM+kpGRoVftZDJF4Fw2NiLw0eMIVOM4NGUmlnGR5vLIEXsIgiIiIvnWasLwSCKR9+7dB0GQt7cPQ/gC5DIv762ecGlppKQey05UE8sZr7GLNJeyspunTPlojIPjDOiM8ZZEIoeGhk6ePFlK6mfmyi5/XL4qi9FmrLQ0MosCVZBz5iD6kss2LK95L8ruRZrL1av/nDVrNpHYO0aYBOKdRCK/mtO+f7/NlClTvvjii9zcPOZgeeKSucqI9vaBpszY5/WIMnmc303UuZwyZcqGDTIyMhsn3PyxcuXU10tHfv7555ycXGYoualfUqnIpEaGFsyrlQYODkgfJDpGwjnPPoSnos6lmJjY59NF4po1a9a6desvXbrc0dGZk/M8MZHKjCY7fYnHI8Ux2NwMVYqgBfPhVBl5+jmJOpczZ85qbWvv6OiacIP2CTg6DgC27OxeMqDJwCWYNgFmbgMvc+YgrZkPqgXDE46oY1HnUnTql2QyJTGRqqU1COYX2tm9rKzsZ8nlqVNBzNMcvbzGdWAQzeB31IJxSWFgi91tdDQVLYK9vV8wO8vJeX7oEFFM7D7qbNymTbyj8HF47TFx2ddHEqpZtWr1zJmzurt7LewycAAAIABJREFUhBoLQ984M3DIVOJOyuzZNAiCHR0HWlreqMmWlv7QUESJgqeAyK++IpmaYtqRA3WjP+KHSxKJHBERKS0tveCbbxYsEKL56CPJSZMm/XfBAqHG8scfKy9f9mIYUWSgMzQUUZa//z5cWIi0eIDR0hpEVSMEwTIyQ8eO9UyevMjb23v0hMdccEwBfrgMDr45adIkCQmJL7/87D0wH3005dXkqePHHdkpzsRE6uLFwxAEy8kN0YMIQfDnn9NUVQe9vV8AJcrQ7uGY8thDTinAM5ckEnnJkqUffTQlNd27j5xJomS966a0PHz2nBmfff458/gNmUxBq5Vr1w4VFz9XVR1cu3Zo7dohGZkhd/e3ynRu+i85ZQX2jC4FeOayp4c4Y8bMJUukOEBZXXOrl4Rn5rWp+Q6x7y1585P4bmI6vUtiH/5RVWQ3MYNeSKJkPXma8LQtCRW2tie3PUtBb8doUd2+CYKg2rp6huL7FZdAU547x6Khw+wY05d0aI3JyieXK1b8yg4FwpOEb775OinlErMDUzPVhqY4evnBQztLysJQCbEPr7tT8ZiDyQ5N+WedOFROomQ5Opmt37AKxdr3qn1wiCu9g7HYd2jKs+QyI+M5BME//jicmEjt7By95Y5xOSYY6TwLnsuz52wio84YGKqgCrWrJ/3Bw8COrjSUy25ixoOHge0dOAYuW1qT9fQVSZSso8dMikpC6VFzdDLT0VU6e9YGCOm5rK65VVoeBqJraIrtJqZXPb4F1HBjcxx41Nmd9uBhYFfPW7oZDZ8dl/7+L+grlPPn0wwNB/39X9TVvWmS02tNjEs6tMZkFTCXvSS87k4lYh9eS3sLoSWBRMkqKAreprrRw3Pv7j0aG2RWNzTFVT6KVFLe4HF2r4Wl1ma5tfT6so+cabJLLTjE1Wy3BqoaAT2OTmbJuCvqGnIFhcEkShbgso+cud9G78DBnc4uuzW1trR34FzdLG0OGB5zMHnw8KaS0oZjDrsO2err6SsfOKh/xsNadvPajq5UFEfUwsAliUQmEJ5c9bvW0EDU0hqpUIICHcX0xx+H9+x56e4+QD8giXE5JhjpPAuYy/QMH4+z+0mUrFvRZ8547CNRsvQNlJsI8SRKVi8pc+XKxQ1NcSa7ttfW3SZRsvrImRs2rKbnsrU9efcejZUrlzQR4ntJeFTjgnIcl+b9uDZmi4J0V0864DIj0/eYwy6AV/Rtj7PnDri6WQYGnSBRsioeRekbKIFY1q9fDXB0cbW4l3sNxRG1oFz29ZEyM7N0dHWnTfvkyBH7Z886UNPV1f3kCSU0lGpoOPjjj0jznN78/juC6et+orVYPxEdYHxaBcylnr6imvpGI2MlPX2F3377tY+cqbFDDs1+YxOVhqY4esl+Gx16LvUNlCseRZaUheobKHuctSkqeVP1dHQyw6V5kyhZgUEnHI6b+vgeCQ5x9Ti7Lyl5pCJLaEk0t9BydbMsKQsHXDqd2AOi1jdQBZZTp/emZVxB3we1AC49zp5bvnwFuwV306ZNW/Hbb66ubk9b28hkSl1df2Ii1c7uparq4Pz5SJc7ajQ1s/nMDczbvykgSC6bCPF6+oiKAuaQrQE+66qW9la0VrdFQbqhKU5HV7GjKw240dSSp+dSXUMeyG/f8ZSS+p6+zEW57CVl6hsom+1WDw5xDQt39/a1B17u5wfZHTZ0dbMsLY8AXJ5wNgePuOSysKj44sVLy5evAItC//77bw2NHahZv37DF198AUHQfxcsSEtLp69WophaW/dOmnTi+PGwf5MX+89nCgiSS4+z+2NunwUokChZpWXhRsbbboa47rfZWVYe5uV9ZMVvixqa4mLjPM12q5eWh173d1y1ahk9l7q6W4NDXIpKbu4x36GlveW6/3E0NJRLEiWriRD/zTf/Fxzi2tmdpqy8IQV3Oe9BgMo2mYrKiLFwCfqJ+vpIeHymrq6uhsYOhkGgp61tJ044T5069eOPp2Vk4BnQxPov+WSQlTc+uVy69GeUGNSS9yCAvjOyj5yZfc+vj5yZkenr4ronLcO7tDy0qye9j5x5N+e6i9uepJRLFY8i2jve9Ad1dKUGBDq6n7QoLg3pJWXis3x7SSNd9+WV4aAhBaIrKQuta4glUbJa25MvX7H1OLuvuib6tZqMAB1MzzpTKyoRxUmiZOUX3ACWyqrIJ0+R1hiDUVOTZe4nIhCesJwqH3M7VlJS8ttvv+3o6GRAE2v3sGKMHxnPXPb1kX799VdJyY/u5rBoQDDk9ztxW10TPXfuzE8++ZTleA8DeeD28OEjEASdP3+B4SnGJT8MsvLDM5dg3zZxcfHJkyd/883X33wz/103H09DDtY4fPgIu/FxBvjIZEpjY5OkpOS6desYvGBcsmKMHxk/XJLJlKCgG3/8sXLevP/MnTdPeGbKlCni4uJz5woxirnz5i1atPiMhwdDVZKZRQbJkiVL58ydy+AL45IfBln54ZNLhkwS0q1IrYdk+MaJ2geGVSa+hzKMy9FHvRmIBLcYl0L9NfDJZXMz4fTp01ZW1kI18+bN+/jjjy0sLYUai7390YcPC1jCx0GIcSlyXFZUVM6fP5/duMi7KJeUlAwNC+NAIfMjjEuR43L7djUIgg7u1ixKuVqaeu1dN4HnD0/7eOqcOXO6u3uY+WMnwbgUOS7nz58/d/ZXLxuSRfPcZj7eSkcV6Vcvr6hkRyGzHONS5LicN2/eN/Pn8JH9Tjb6D+OvoB6Hm1KOWGrXZAehEpaWnorbCYFuLB8xC+/HXixJ8WWWc5bs0lGEIKiMl+MDMS7fHy7Xrl5hrK1Ia8YBSoqSfb7+z7zs6AucoXnyMMLF1oSzG/Rp8IXDd/xd0FsuLRiXQoWMj8D5aY/zrS/lZP5nqLmVWBkLcNm/S+OguU529IXBxuSrpw/s1t164oAh5XE8rRmXcvPUXuPtRyx1nhXfQrl82ZDs52FLqorrLo85ccDIwkAlPsCN1owD7i0Nt7nZ7brsao1xyQcH4+mFSBz9hLXx5hIX6uF7ygYmpJKq4vTU5S+77suOvuB/9lC4tyOtGZcWftb98K724lt6apsH6pMbcm/u1tsGuCRXxVkYbr8fd4XWjDPUVHiED3jZkOx00Cgz8lxu7KV9phoD9UmE/LB/1vyGcTmekHEfV3ExsjcTuluTlxcnr+PN5Yu6JK1tm2FC6o0LR25fcwZcthZGdpXFlKVeu3r6oKW+Erk6TllOOj7QrbM0urcy9snDCCtj9X/W/IYLPQMTUtuLoxQ2/nXLx+GWj0Ogp62VkeqhPVpP8sOBDr7obIVxySnDJ+iZg8ObedPg0ALOB/mMN5eDjSnH9+tX4gO0t29+UZcEuLzmcejkETN8xNnyjEBLfSWYkPq8JiE19Mzx/fp2FjqE/PC//1xeke6vLCdNrU1sygtR27ouNeQkMBVpfpYGqt3lI3WD6x4HMS4niD220QIop09HNrKDYeQvBCFbfnK4JoDLunvBqgrrj1rrwYRUwKW64obB171OScGnLfWVsm+dv+xiDfSfnsbW+twQ0O7BhZ45bKkzUJ+kIv/Pi7pEmJB6N/riFde9/mdtw70cYELqcBNOU2WTYLns7ES2cQOGvrcIa49zoIr+EQoles6VyHFpaaw+2JhCa8bpq8vV3QuGCakR3seLkn1vXrTXUJKxMFD1O3NIT12uvSjSZremsZaCsfbWSy7W7cW3rnkcggmptGbcySOmFenX08M9NFU2mekqmu1UeV6TMFCfZG2sZqaraGmk5ulomRV1jstmOOqMuT2ek/N8376XDGsg6Xc3wLikh4+dHUApKfnWaVcixyXKgahZAJexd2odHQf27HlJv45s/nwa2PhFVXWQfsNLjEt2LKJyU1OkvJaUZDxkCOMylcsfgKayMQSZogsawdZt7u4DhYXP6ctuejvGJcofg6WqCtGO4CDy6dMZoRTF+iWXlIyzs7zb+ZMmjWxNbWg4GBpK5YAjiibGJQOO4Laq6k27e/p01medY/pydH1JrU2fMxNAmXfwILIwnN6A/f1ZYopxyZJLKhU5bUNaGjnEkt2hbBPJZVthBLEihl7ztRdF9lbeppcAe0dJ1HDTyMgkTEjtLL011JhC76y1IBwduoQJqW2FEfTu6V2ys7cXRtCHQO9MaVMHBMHzZpdDkCTD+Hhi4puNq8HuWaCiCf5+/nmxhMS9v/5C9hxEzapVVHHx2C1bChwcRg49wY6bYMZ3IrncoSxjsGMLSsBQY8riX37wOYmM9DAYCyP1/pqEu9Hnc25fhAmpzod2dZW/he9WWWl6EHcoy/TXIJ1E3Bsd1U0D9SxmPzXm3kMq5h8Nv65fMs7b6OykODoO7Nv3cu3aIeaNX+gro6PaV61CVIitLdJpl5SEIEulMufXhyKZYC5VFGT6qu4AerKjzytuXseBy9vXnO8EIJOG+qrih5re0pfsuBxoSC7F+aKj7cNNuEcZ1xvzbqK8kqvjS3G+Aw3J7Lik1qYv+D9kJ8EFX99n1pf0BTqw029ivXix5aefKiQkILvBoCYs7JmExIadO/HgXD0NDQRHSck3VS4GgqWlkQPEgWPAKx7PtvgTBrZU6oheR4+0wuNHH7we45tMMJehXk6g3xEmpO7WUwn3cfI5adOQG+J8aGRykJutYWWGv4WReknqtc3//CG3btXdW5625jqdZaPry6a8EHVFmSuuViY6SglB7v01CTvV5C6esDhqret0wAgmpKaHe+hu3+ztZr1HX3Xz+j9Z6kuYkNqYe2/pL6TXuBRfu97IzCI7CU/1S5D94BxIW1sEVikptrAysAtB8NKliBdeDU9RMETKefD63eayvSRGW1WO1ozrLIs21VXGR55jx2V/TQKqL5m5/GvlUjMdhd3/mkU/f99fk3hgt+bTgggwxmOgqfg4Oygt7Czoe9++dQNMSFVX2ghmLvfXJCxbJMWOS5iQSqzAz55RDTJGVXWQHYgMcp64ZJeRoEvFzQ1RmdbWb8jjoGIZAOLvdsGCN3Ex466kJNzDNCZYX3aVxzrs06/OCvRy25ce7sHMpeshA6Avmbm8eenIbh2Fg7s1BhtTWJbjm9etMtUegVVj6z99VXFe7vs9HMx9Th2Q+fsPmJCqrYrMDgFGU1mGA5cwIdVIczsEWc+b9xKC4MWLh729X+TkPKc/D4UBSjKZIhAu2fHKTt7WxqLYpS+Cx6EUZvdu3MsnnsvqzAB7az1t1c0vG5IBl415oQ77DQAu1kbb2XGJIgUTUllyaaS5te8RUnmlNeOi/U6cd7JMD/cA6lNRdi1MSN2hshm0wYeaUv756zfOXILxnuSUx2vXvjlxQlISzsnB+tW5541bl6GhSB1mYuZt7FCW6SqPHW7GKWxce/KIKUxIBVxS6xI3Sq8qxV1ND/P4Z+0fKJdpYR7m+ioN94KYy3GWXKaGnjHRVqzODAi+aO9oY3j97CGXQ8bVmQEexy3+t2rZ04KIc44WZ4+b12QHuh8x/XsNV1yCfqKcnOd79rwEDXBHxwFmTQkkE6Ivuc150Xb3qi/CwWGUQ9WFNZ+oIs0PVO/q7gb1vp6g3lMe05IfBhNSa+/eOHd8d0KQe83dG72Vdx5nBQ41pgw3pdy/c6klP7TubhCDbivFXaXvfaxI8wMdnCUpV88eM4u97jzUmDLUmBJ73fm8457HWYG1d4MI928ON+Myws+eO767MsO/JjuQvqeJXhkDO/O8jZaWfpYnQKKYYlwKFX5hccmc96IsYeYS5Y+dBeMS45KHLnT+6Me4FCpkfASO6UsEeoxLPtARqheMS4xLoQLGZ+DjzaXLIWOXQ8ZoaRv/74YF8UHunJsmDF46SqNPHd2NCsdowfQln/gIzdu4ckmtTTTT27Z96wa0xW2krQyQMtFVYZhGxA414OVlQ3JrYRQ7N7zKMS6FBhifAY8rlxHex+MCXK95HIq9jmyJ4XFs988/fmNvoRngabvwp29NtbcMN+N8Tx0w0VY00toa5esIE1LPOVqec7I211NWU9xQd/fGv160OstiLjjvgwmpkT6O+hrypjqKp4/uHm7CPUzwOnvc0tpYTU9NDl28NiqmGJd84iM0b+PKpcGOrS/qknof3dFQ3ghYYdCXFenX7a120ppxw804K2O11sJIVYV1BYk+r8a7qzID9+9SR8YMX6vY9uJbh6121ufcNNFWHG5Cttw4f8Iq9rpLys3Tu/VUhl9vwqEsJ83l5l4Yl0IDjM+Ax4/L6qzAdX+t8HXf6+u+d8ViqeYHSB87A5eXnK2UNv0FpmhsWLsiPtDVRFfl5eupk89r4o21FFAvgEvfk/vTQpHhR5iQ+qz41t5dGik3T4ddOQ4kJlryXM7UxLjkEx+heRs/Lu0sdJJuuBcleRUleYVcsj9xwBCFDCakgvrl1VM2GRHItCBkXw1kfnus6c5tgw3IdExqbQIzl0Hn7UCVACakEh6E2ZjtSLl5OsIbqQAgvT/aWzAuhUaOcAMeJy77axJ2KG9CW9xDyCyhv182JO9Qke2tQGZb6mkotBdFNubeVFfc8Lw28dW+GnrqWzpLo5m5BF6AvuwouaWqsJ5UdedlfZK1iXrO7YsYl8LlZbxCHycu6+8FZ/6rCIEyiw9wbS2MSLpx8qQdMo03785luz0aw804fKTnHj0Vc32V3NhLMCE15hoy/A0TUl82JN163RICXkhVcck3T8GE1FKcn4W+ioW+SkKQO0xIrckKLEv1A1FEXz2ONvyBhN1frBwfL964jWecuGQHhIjIMS655WW83PHD5X/+85+v581iWIUjIoTx9xqGO7Zg+wWPF3JcxcMPlxs3bhIXF79x4QilJrG/9p03xSl+c2Z9NW3atPb2Z+xmDzHLsflEXPHFryN+uMzIwH/8MXKm4pTJk98DIy4uDkGQs7MLw2GPzCzSSzAu+UWOK3/8cEkmU3Jz83R0dVev/vO3t6/ly5cvWrTobRn/d0uWLl24cCH//t/2uWzZssWLl7wt++33339XUlIKCQnlCcqJWt/DVZa+F4745JJec9Db09LS3dzc6SVjsYeEhh4/7jiWEOj9RkREenv70EvGYsf0pVD5FzCXuro7v/32W54OaGIHB4lEXr9+/TfffNvT8//tnQlYU8fe/0OlWrT31q22vXbR0qe1y0Oftvf/uluLCwpar4JaBRcUAQUFl0oVbUEUF1xApYUqgiICFlAWQXBBgqwKIiBrYhIUFJOQlQDJOTN/ZG7Pyxsgkg0TnPPk8ZkzM7/fzHzn48yZc+YcBD3l6X28WCyxtJwxcdIkkVjSeysVOTGXRsPlo0eP33rrLRqNFh2t3t+067b7i4qKTU1NaTRaXHx8txnUiiwoKBwwYICJiYkGfwqy24Iwl0bD5YkTJ9Efh/zhhx/UvVzr2vebNm1C3ubOnau9t7VrnZA3Dw+PrmVpEIO5NA4uRSLx+PHjzczMaDTaoDfeKCgo1KCzKZOnTxtnzJhhbm4+dNiwHywty9X5C3mUEyrAZnNGjBhhYmIyaNCgd955h8fjU0kaBzCXxsElg/EwIuLs7t2/0mi0Q4cCkpKSNe5yiUTa2PiMz2+aMWPmBx9+2CQQNjQof5lSLedZWfSwsPDXXntt+XL75OSU/Hyt/s+gojGXxsEl6q3S0rLXX3/92+++08nSB3EpfL5U+T+fS1X3VCQSL1pkS6PREhOT1LXtKT/m0pi4lEikGza40Wi01asdtV9H64RLkUjs4+NrYmJiZWUl0hpxClPMpZFx2fiMO3XqNBqNNnHixJSUK1wuj+pLdQNactnUJKDTs+fP/7H9FsFnn41jMJjqVkBFfsylkXEpkUifPm1cu3YtusszbNjwjz4ao9nvjTfeGDBgwEfPD008jBo1ikajtd8bsrGZx2Q+VAGZBkmYS+PjEnVzXl7B5s1bJk2abPH115r9hgwZYmpqamFhoZn5/4wf77RuXUbGNR1O3xTBmEtj5ZLqQo0DEydOGjXqHYFAqLEH/RliLjGXmEu9MmCIznX8fFy345Mhj5cTJ04aPmKE0hUCm80ZOHBgSEiIIXa1UdUJc6nJnVGBQPjue+99+eVXSg9IMZe6gh9zqQmXly5dptFoGza4Kc0PmEvMpSY8KWGk2Wl9fcMXX3w5cODAoqJiJQ8MBtPU1PTUqVO66p5X1k+P4yUAYMSIEVOnTlOSvi9PDfD6srqmdvLkyTQazcvrF6VJXCKRFhXfo9FokZGRryxPump4j1xCCL///vt3331X+8eJGqM8ceKkYcOGX79+IzPz1kv/xcXFu7tvHDpsGI1GW7Nmbbd3r2JiL9JotOzsbF11zyvrRxWXwcHBNBqNnn1bY7C0NJw4cRLaNGk4/5qbfxIWdkZpGU41c83atTQaramp6ZXlSVcNV8XlkydPTExM7O3tu05YVE/oNTBx4qQhb775228+vr57XvrvyNGjN27cVDF7sFjsoUOHfvvttwAAXXXPK+tHFZcAAFtb2wEDBty4cVOv/PXk3ACvL3uqqlgscXRc0/Gexp1XFiYdNlwVlxBCPp8/aNCgDz/8qLq6pqcu0V+8sXApFktOnDhpYmKyaNEiPFjqhM4XcAkhzMrKav+6hrm5eU5Orv4Q7NazUXApFIr89+8fMGCAubm5TCbTSa9gJy/mEkKYlpZmampqZma2ecvWysrqPrvcNHAuBQLh1avp06Y932xqYWEhFosxT7pSoFdcQgjr6+snTJjw/NsvgwZNmDBhnbPz9ueHl15/o0e/P3jwkG3bftZrKRo437Jl608/LRv78cftH5AxNTX19fVVKBS66hLsB0LYWy4hhACA0tJSNze3f/7zn4Zz4+Zl1eS111778ssvg4ODhUIhJknnCqjBJVU2AEAmk0n0f0yZMmXYsGFCoVD/RalXglQqVSgUeIlDIaHzgCZc6rwSPTm0sbEZOXIk7v6e9OnH8ZjLfty5Rtw0zKURd14/rjrmsh93rhE3DXNpxJ3Xj6uOuezHnWvETcNcGnHn9eOqYy77cecacdNeIS5Bx6FQKEiS1OCeKEmSZZ0ODofTeycEQaDNwqgOEMK2tjapVKoNOM+ePSNJUhsPhmzb/7kEAJSXl+/cufOzzz4zMzMbPHjwG2+88e6773p6eubl5REE0cvukclkS5cuZfx9REREODk59RJNqVQaHx8PIaypqamqqoIQ1tXVFRUV9bLobrMdOHCgpaWl26R+ENmfuQQA5Ofnf/bZZ3PmzLl586ZQKCQIgiRJgiAkEklRUZGjo+OoUaMuXbrUG7xkMtmePXs6d7mPj49AIEA7BwQCgVAo7OxHJpPxeDy0nwMNkwCA+/fvFxcXU6fIG0EQfD6/ubkZnaJUhULB4/Ha2tqoEltbW3k8HrWVDnNJKdPXAW2eQxIE4erqOnnyZBaL1RkXpTY0NTUtWbLE0tLyhWNPVy737dvX1NTU2tq6adOmsrKye/fuubu7IxAjIyPT09NZLNb69esbGhpEItGff/7J5/P37t27Z88eJpPJYDCysrIghEwm08fHh8ViXbp0KSgoCABQUVGxbdu2ixcvcjicrVu31tbWQgivX78eGhrK4XDOnTt3+fJlCCHmUqkr++5UYy4VCsXUqVN37NjRmyswAEBsbOzYsWOpEavbFspkMgcHh8d/H/Hx8cuXLwcA7Nq1i7pS5HK5hw8fRq+Sov8MbW1thYWFiMvO8zjikiTJJUuWUP9tEhISqqurKyoqqIG5tbV169atEEIqBr3cgrnsto/6KFIzLgEAK1eu3L17N9XfvaluYmLiN998o+JyUyaTzZs3r+Dvo6qqCk24VlZWlH8AwLx58wAAp06dWrduXX5+Ptos3BOXfD4/KiqKMheLxSdOnKioqMjNzUWRJElu2LABXSrU19dnZWWFhISYm5sDAPB4SenW1wHNuMzIyJg1axYAQCqVsjoOsVj8Qkbb82/btm3v3r09NbLrPI5wsbGx6WxibW2NypLL5TU1NVu2bLlw4UJPXPJ4vNjYWMpcIpEcPXq0oqIiPz8fRSIuAQCzZ8/OyMjgcrkEQdjY2GAuKdH6LgAAqK2tdXFxGTp06JAhQ5YuXVpYWPhCsFD9FArFiBEjoqOjLS0thw0btnr1aicnp1GjRk2aNInNZqtug0KhGDp0aE9vf3fLJYTQ09OztbUVeRaJRD4+PnK5/NKlSyimfa2zcOHCzlxWVlZCCNE8ThCEvb091bSMjIzS0tKuXEqlUurbMgRBfPXVV5hL1V2p+1QAgJeX1+zZs+n0bB6Px+XxioqL7e0d7OzsVEyyVD0yMjIGDhw4YsSIvLw8qr8BACUlJe+9915mZiaVs9vA+fPn/fz8uk3qiUupVLp+/fq6ujoWi+Xg4IAY3bRpE51O5/P5CQkJSUlJFJfPnj3buHHjkydPqHVPcXHxkSNHeDze7du3N2/ejNY9XcdLGxsbNpvN4XBCQkIWLFjA4XDwPN5tN+kr8vjx4y4uLmhVGxER4ePji6bLgIDDzs7OFGo9FW9tbT1s2DCJRNI1Q1NT0/Dhw3k8XtckKkYsFo8aNarbUgAAPb3EQ5Lko0ePHj9+TC2zAABcLpfFYqGatC+PqP9Ucrkc7XWnMre1tbHZbB6Ph8oFAFBJVKEEQdTV1TU0NKBUouPotp5UW4w6YFj3L5ubm8eNGyeT/fd2McUlhJAkydmzZ3M4HBVykyQ5ePBgOp3eU54rV654eHj0lIr+A3zyyScikUhFHpzUBwoYFpeZmZm+ne5dd+YSQhgbG7tz505Rz0dlZeWQIUOowaarfC0tLYMHD1Y9zKxatYrBYHS1xTF9qYBhcXnhwoX4+HgPD49ZHceXX3758cfmKLxs2bKSkvsvfPtx2rRpquV78803Oz9E6ZrZ1dW1oKCgazyO6UsFDIvLhISEkJCQx48fM5hMBpMZEBDg4eGJwiw2+9atrOnTp0f3fOzfv/+7775TLd+YMWMtunQJAAAV1UlEQVRUT9O2trbFxcWqneBUfStgWFw+evRo/o8/UvNs53n8+f3Fn39Wce2INum89dZbKuZxCKGXl1daWlpPssrlcjMzs6dPn/aUAcf3jQKGxSUAYPr06WlpV1HjO3NZXv5g3Lhx1Kq2W3UAAOPGjeNyud2mosi6uroxY8Z0u7IGAPj7+w8aNKjb1La2tvbnkE6djj/++ENFQeomhYWFQQgjIyNVt1Fdt0aa37C4hBBKpdKvvvoqOjpGoVAUFhZevXqVJMmbN29++umnqhfjqAMCAwPPnj2rujOOHTtmY2OjtFEDABAcHGxiYrJ48eJuzXu6f9ltZg0iXV1dIYS1tbXUdKGBk35jYnBcQgjbd4i5u7tbWFisc3Z2c3MfP368nZ1dT49hlHqCx+O99957qoccAEB4ePiIESOCgoLKysoqKiqSkpIsLCysra3ffvvtkpISJZ/otFsuAQAcDofFYl3oOKgHP1wuN7LjqKurQ+atra3x8fHnz5+/e/cuRR7KduHCBYFAgLhks9kAgObmZqFQmJ2dHRUVlZaWhvIDAG7fvn3+/Pnbt28LhULVu0y6bYIRRRoil1RHFhcXp6WlSaVSqiN7o6ybmxv11E5FfpFIFBMT4+zs7ODgEBoaWldXl52dPWHChJ7Kkslk27dvRze0qdvacrn8008/raysBAAIhcKffvoJAMBms48dO4Z2xe/bt+/Ro0dtbW3Ozs6tra0AgKKiIvSHp9rv8P/2228oW1xc3DfffAMh3Lp1q0KhKC0ttba2lkgkAICcnJy4uDgIob+/f01NDQBAJBLNnDmzrKxMReuMPclwuYQQ0un04OBgdSVuaWl5//330bbw3tsKBIKRI0c+efKkJxOZTPb1118HdDpqa2vlcnnneX/x4sXtXK5evZoasOVyuVAovHz5MjVwtn8cb926dQqFwtfXlxrz2rcgjR49ujOXKSkpqCYKhWLLli3tfjw9Pam6Xbx4EXNJqdGnAQDA999/P3ToUNXr627rxGKxhg8f3hmFbrNRkQKB4IMPPsjIyKBiuga6ncfbHyp6e3tTmdGOTFtbWyoGBQ4cOND5pml0dPSzZ89WrVrVuWnz58/vzCX1lgVBEB4eHhKJpPMyq6CgAHOpJHIfndbX15uYmNBoNGozoloFM5nMt95664XvSAAACgsL33777fT0dNX+e88l2oKJvJEkKRAITp8+jd64QJH+/v7Nzc0bN27svPD//PPPVXCpUCjQRkzkAY+XqjtLj6k7duxAT3emTJnS0zWf6uIlEsm8efO+/vrrvLy8zgQgK5Ikq6qq5s+f/+233zY0NKh2hVZjPj4+1Ks5KNDteJmamnrnzn+//p+YmFhVVfXs2TN/f3/UiubmZkdHRwhhcXFxamoqKpfJZI4cOVIFlxDCgwcPok1SdXV1c+bMwePlC7tM9xna2trmzJljbm7+5ptvLl++/NmzZ5qVAQCorKxctmzZkCFDbGxsfH19IyIiAgIC7Ozs/vGPf/zwww+dt8OpLkIul2/4v4e3tzdBEMnJyZRheHg44jUxMTEgIMDf3z8+Ph7h2L42+vXXX0+dOrV37140pwMAkpKSDh06FBYWRqfT0eImISGBJMn6+nrqIoQkSZSEtsDFx8dXVFTk5OQ8ePCAKrf/BQx03YN2glH71eVyuZbSKxSKurq6nJyca9eu0el0BoOhdP9SS//6NgcAXLt2jSolMDBQ9eMDKqeRBgyUS6QmxaWRiqvbakdHR585c6ahoSEjI8Pb21uzaxvdVkl/3jCX+tNW955bWloaGxt787qS7svuW4+acwkAkOv5sLS0HD58eFtbm17L6Xyzpm/Fx6X1qIAmXKIL9nfeecfU1HSAPg+TjkOfJTz3bWZm5u3tjenskZGXkaAJl7m5uSYmJqNGvv2j1ZwFc+Ya+++rzz+n0WibN29+GfrjMrtXQBMuZ82aNdjMjJGTS7A5/eAnq2X8zzffvvbaa9qv+rvXGMeqr4AmXP773/8e8/77Cha7H0CJmuDssIJGo1GfpFJfRmyhYwU05HLsBx9oDKWCxU47H+W6arWrg8MGxzVZcfHdupLVMCoyb3Wb1DWSlZvHLyvvGt/LGMyljrHS2t1L4DI1MspznXMLg0mwOZLqGqfl9jmXk7oC9LS4xMt9Y9f4bmP+2H8gLzml26TeRGIutQZJxw5eApcL5s6VVtdQuDy9V7J8kS3B5vwV+ieKrL6VdfvS5W0urhO+/S7q+InyGzdv/hW3Y+Om9atWxZ8OI9icmxf/enKvBGWODv79XnqG1ffTV9jZlV2/QblVK4C51DFWWrvray5bGMxFNvOUoFkw17qV+XCtvQOKz4i6EHbkaG12jqezs7iyKjE8YvGPC0SVVa0M5rb1G25funxgp3fFrSyU2cHOrqWWcfQ3n2uxF9EYrOS8N6eYS61B0rGDvuZSxmDazpuvxMqCOXNbGczOXJ45eoyaxxPDI6JOBiOT2uwcLzd3JS4JNgfP4zrm4mW762suCTZn3mwrWS2DQpNbWrZ0wQIFi71muT2KTIk4p8Tlxb+neE5BoafTugM7vR/8vSRasuA/mMuXTZHuy38JXMb9eWrnJo+2hyyCzWlhMN0c19yIvUiwOQvnzZc/ZClYbC83d8TlFtf1BJuTGB5hb2uHkk747bsUdibYf3/a+SiCzWHm5I7/7t+IS3rCJYp1dQN4Htc9Wdp5fAlcKljsiyGhLqtWuTg4uKxcdeVcJMLobOBx+0W2W1xcQw8fuXQmvIXB9Fy37vShgMTwCP+d3m6Oa5wdHPy2e7U9ZD0pfr5U2rBq9b5fdvh77ybYnLLrNx2X/nTvarq6RKL8mEvtKNK99UvgUl10EsMjks+eU9dKrfyYS92TpZ1HI+CyIOVK4ZVUtThTNzPmUjuKdG9tBFyqC5kG+TGXuidLO4+Yy+dbTzCX2lGke2u9cHk/41peYhL1U/HkupX5kJ1f0PsRroaeLe9YyFMm1Vl0gs1h3M6hYjQIYC51T5Z2HvXC5Yxp3586FBAWcBj96goKe2KFX1butXFTT6ld41fYLW6u+d97nwSbs7Tj/uUOz81dM/c+BnOpHUW6t9YLlz/OmYtuT1JkSKqqxVXVt+LiHt25K3/IKkq7Wnw1Xc5iIy4bS+5fj45pLClF+VsYzPzklOcZ/h4aG4qKb8TGNpU/QFwqWGxmTi49Ll5SVY24fHy3iGBzRJVVTeUV16Nj0CnB5oirqunxCez8QklVNeWNqhUVwFzqniztPPYRlx7OLjs8PC+cDF4wZ67Xxk0RxwJ3eXoG7vHjl5XPs5qzY5NH9MngFXaL85KSZbWM1UuXhRw4eMzH9+f1bvKH7JSz59Y5rIgJ/n2zs4vllKnNNYzQg4d+Xr8h6sTJjWud5s2eQ7A5ax1WEGzOgrnW3h6bo4OD/zNn7r30a4/vFi2e/+O5oKC9Xr9MnzT5YV4+BaJSAHOpHUW6t9YLl1MnTHRxcHBdscJ1xYpNa9ZIq2vXOazgdMzmieERR318CTZHVstYtXQpv6x85vfT0Ugmqqyyt7VLPBN+Ifh3xM2+X3ZUZN76aeEitCFDVsv4f998wy+vcLBbLO/Ylcwvf4Ce9yAurWfOQk84sxMuHfn1t9+2bi3JuEawOQoWe/6s2ZhL3eOjN4964bLrPO7p7CKuqibYnNTzUbEhoegJpIOtLb+sfNsGN2r0WrrgP/t/2WE3bx5i2nHJ0jtXUu1t7agMyxfZPszN3+ziQsXYzf+RGi+pnR/FaVcP7dq9cvEScdV/N9Rtc3XFXOqNIt077iMuN7u4Sjr2XHblsn3yRa9ktDKYS/+zMPL4ifhTpxF26VEX6grvLFtkiwbUtoesqRMmckvLHX9ahkykNbVTxk/oiUufbdvudNyQV7DYVtN/wFzqHh+9edQLlzOmTvvDf3/ogQPoV51FV8Hl9ClTD+7alXs5cf2q1VfORQoeVFjPmJkWeT454qyD3eIWBvPMkWM7Nm7KS0zavXmL5dRpzTUMn20/H/Xxzbl02cNp3aKOXXNoHlcaL+vvFi2YOzfId89W1/VzfrDEXOqNIt071guXD27cvHPlCvV7dr+Uk1+Axrym8ge80jJ0zce8ndPGfPj4zt3ym5mnAw5XZP53q6/gQUXM73/8FRIq+XsWLr6afubI0Yd5+R1+2AoWOys+ITLo+NN7JeyO1czD3DyCzUH/Pn89o6q64W5RNT37SXFJ6bXrvLJyN8c1jSX3qdlfKYDXPbonSzuPeuFSqddf1mnp9RsrFy9Jizx/+vARlxUrVbzAibnUjiLdW2vI5YejR6MV8ctirpfl1t8tSjh1+tZfca0dr7n1ZLV2uT1+T1f3cGnhURMuHRwcXjc1Tb8QrWIE6okAA4yvK7gz9sOPBg0aRH0UXQs9saluFNCESxaLNXDgQFNT07EffjTu00+N+vep+SeDzcxoNFp4eLhuFMVedKGAJlxCCNlstr29/ZgxYz7S8/Gvf/1LzyV8ZGVllZmZ2b8/J6kLVPrUh4ZcojoqfWxc56cymSwxMVHnbpUc9qneuLDeKaAVl70rQvNcCQkJX3zxBR7JNFfQaC0Nl0sAwNixY2k0Wk1NjdHKiyuuoQKGy2VlZSX6Oylr1qzRsHHYzGgVMFwuV65cOWDAABqN9vrrr1N/r85odcYVV08BA+Wyra0tJydn+/btNBrt6dOn5eXl6jUL5zZyBQyUS6Sqn58fjUbD6x4jZ0yT6mMuNVEN2+hbAcylvhXG/jVRAHOpiWrYRt8KYC71rTD2r4kCmEtNVMM2+lYAc6lvhbF/TRTAXGqiGrbRtwKYS30rjP1rogDmUhPVsI2+FcBc6lth7F8TBTCXmqiGbfStAOZS3wpj/5oogLnURDVso28FDJpLLpdbUVGB9xPpGwID9G/QXBqgXrhKfaMA5rJvdMalqKcA5lI9vXDuvlEAc9k3OuNS1FMAc6meXjh33yjQR1xyOJyNGzeuWbPGycmJTqerWGKTJNna2qpW40mSbGtrU8sEZzZwBfqCy/z8fG9vb0QbSZLp6ek///xzT2gKhcK0tDS1VNPARC3/OHPfK6B3LgmCsLS0VKLw8OHDLBaLJEmxWEy1ubGxUS6XZ2Zm7tu3r7GxkSRJqVQqFArT09Nzc3PRRwBVm0AIFQpFdnb21atX6+vrKc84YHQK6J1LJpMZHx+vpAuPxzt+/LhUKj1x4gSVNGPGDIIg7t+/f/LkSalUKhaLZ86cmZWVRRCEQCBwcHBApKowAQA4Ojo2NzcTBOHr61tXV0c5xwHjUkDvXBYVFeXn5yuJ0traun379q5cQgipSVksFi9ZsoQaaIuLiwsKClSbtGO9cOFCZCKXyzsPxkoVwKcGroDeuXzw4EF6erqSCgKBYO/evaohE4vFISEhlKFUKkXjqNJ42RllCCGdTre2tvbz87tz5w7FNOUEB4xFAb1z2dra2nnYQ7pcvny5pKREKpUeP36cUmr8+PGdIROLxbt376ZSuVxubGysahP0YUsIYWtra0xMTFhYGGWOA8algN65hBD++eefycnJ1OhVX18/d+5cAIBCoVi7di3SSyAQjB49GkIoEonQ9ahYLH7//fepG0B//PFHQ0NDTyYJCQkQQj6ff/LkSeRQoVB4eXkZV2fg2lIK9AWXAICkpCRra2tfX9/2r7T5+fnJ5XJUg7Nnzx48eDA1NTUxMfHQoUMQQoIg3N3dMzMzxWKxt7d3YGBgcnJyYGBgSkqKChM3Nzf0LerTp08HBQWlpKTs3LlTKBRS7cQB41KgL7hEigAASJKkRk1KJrLjoE6pgFgsDg0N7daqJxPVBVGeccDwFeg7LtXVAnGprhXO3z8UMFwuAQDUxWX/0Bq3ovcKGC6XvW8Dztn/FMBc9r8+7Q8t0pZLAMCTJ0+6KiESiZQiqY1CAACBQKDWHK16Tu9aFlW0ikc+fD6/6yKMMsSBl6uAtlzeu3evoaGhaxtmzpypFCkUCqOioiCE2dnZFy9ebGlpKSsr4/F4Stm6PZVKpV0fslM5Fy5cSIU7BwAANjY2nWNQOCAgAEIokUhSU1O7puIYQ1BAKy4BAG5ubqgZ6D45SZLoFHFJEIRCoaAyoPHJz88P7XnLy8vrPNaSJKlQKDqPYQAAuVwOAFDNJWWiVAeKS6LjoOR2dXVFYW9vb8qWSsUBQ1BAKy7FYvG5c+cghGKx+JdffsnNzfX19b1x4waEcObMmQkJCVevXj137pyfnx8AQCQSxcXF3b9/f/LkycePH09ISHBycvr111+ZTCZ6rn3gwIHr169v3rwZUdvU1LR161Y6nX7y5MmMjAyl8XLbtm0VFRVLlizhcrmrV6+GEMpkMk9Pz4yMjIiIiJiYmNTUVADArFmzYmJiMjIyQkNDg4KCSJKMjY21sLC4ePEiACA7O5vNZhtCN+A6KCmgFZcFBQUPHjyAEIaFhaGHKwAARKGFhQWfz0eF+fj4SKVSgUAQEREBIdyzZ4/SeCkSiXbu3ImGrra2Nnd3dwDAwoULqdE3MDBQicuFCxeGhYWhB+JWVlYQQnd395aWFlRiSEjIX3/9BQD4+OOPJRIJitywYQO6qKXGy6amJvQAU0kUfPrSFdCKy+Tk5MePH0MIy8rKli1bVlZWhoCDEE6bNo1qW2RkJJ/PV8HlrVu3bty4If37WLRoUWNjY1BQEOXh0aNHSlxaW1ujncIAACsrKwCAnZ0dlb++vh5x2fkyNygoSCqVQggpLmUyWWBgIGWFA4ajgFZcJiUlUYuelpaWO3fueHl5eXp6AgA6A/FCLq9duxYTE1Pz91FbW8vlckNDQymZuFyuEpe2trZofKW4XLFiBZW/oaEBcdl53dOVS6lUeuzYMcoKBwxHAa24vHXrFovFghCmp6dTC4gjR46greZUI1/IZXV1dWZmJsoPAEhLS0P7hiifdDpdNZcQQhcXF5lMhpycOnWqN1zy+fwLFy5Q9cQBw1FAKy55PN6VK1cghImJifHx8XK5nMfjrV27liTJ3oyXpaWl4eHhLS0tAICVK1ey2WyFQpGSkpKUlAQhTE5ORoByOBwvL68XcimRSDZu3HjlypXff/89KipKBZdTpkx58uQJAODu3bvV1dWG0xm4JpQCWnEJAHB3d4cQAgDq6+uzsrKKi4vRZV9TUxNVhkwmQzuA0HgmkUioKZjL5aJIkiRLS0tv3bpVV1dHpT569CgrK4vD4ZAkSa1pkFuBQECNpqgstFmJIIj2t3w4HA6Cu3M1pFIpMmlpaXn69CkAYP/+/ai2VFVxwEAU0IpLCGH7nR0Vj1v6spG7du0SCAToP8mOHTteeMdeLpej+wN9WUlcVi8V0JZLAEBlZWUvC9NrNrlcHhIScubMmYMHD967d++FZT1+/JjanvzCzDhDHyugLZd9XF1c3CuiAObyFeloI2sm5tLIOuwVqS7m8hXpaCNrJubSyDrsFaku5vIV6Wgja+b/BywfZrORa14cAAAAAElFTkSuQmCC)\n",
        "#### In the transformer architecture, each layer or block consist of two main components:\n",
        "\n",
        "#### 1. Multi-Head Attention: Which process the input data in parallel through multiple attention heads to capture different aspects of the input data at different positions.\n",
        "\n",
        "#### 2. Position-wise Feed-Forward Network: After the Muti-Head Attention agregates and transforms the input data, this feeedforward network is applied independently to each position of the input sequence. It further transforms the data to help the model capture complex dependencies not captured by the attention mechanism."
      ]
    },
    {
      "cell_type": "code",
      "execution_count": null,
      "metadata": {
        "id": "yuEHwduoie-C"
      },
      "outputs": [],
      "source": [
        "import torch.nn as nn\n",
        "from torch.nn import functional as F\n",
        "torch.manual_seed(1337)\n",
        "import torch.optim as optim\n",
        "from torch.optim.lr_scheduler import StepLR\n",
        "import matplotlib.pyplot as plt"
      ]
    },
    {
      "cell_type": "markdown",
      "metadata": {
        "id": "3bwFyMz97dr8"
      },
      "source": [
        "### Train the model"
      ]
    },
    {
      "cell_type": "code",
      "execution_count": null,
      "metadata": {
        "id": "ePJFWRbK7gaH"
      },
      "outputs": [],
      "source": [
        "optimizer = torch.optim.AdamW(m.parameters(), lr=learning_rate)\n",
        "# Add scheduler\n",
        "scheduler = StepLR(optimizer, step_size=32, gamma=0.0001)"
      ]
    },
    {
      "cell_type": "code",
      "execution_count": null,
      "metadata": {
        "colab": {
          "background_save": true,
          "base_uri": "https://localhost:8080/"
        },
        "id": "nx08A3FY8CQX",
        "outputId": "abd22ac2-b4aa-4038-e1eb-26ee080770ce"
      },
      "outputs": [
        {
          "name": "stdout",
          "output_type": "stream",
          "text": [
            "5.042168617248535\n",
            "10.558672904968262\n",
            "8.826519012451172\n",
            "8.130725860595703\n",
            "7.226641654968262\n",
            "6.124982833862305\n",
            "5.312165260314941\n",
            "4.376918315887451\n",
            "3.7212414741516113\n",
            "3.475322723388672\n",
            "3.0469744205474854\n",
            "3.0939321517944336\n",
            "2.993593692779541\n",
            "2.908982992172241\n",
            "2.838670492172241\n",
            "2.7321977615356445\n",
            "2.7356741428375244\n",
            "2.78070068359375\n",
            "2.6842193603515625\n",
            "2.629721164703369\n",
            "2.6330296993255615\n",
            "2.6110925674438477\n",
            "2.581397533416748\n",
            "2.5586280822753906\n",
            "2.5785694122314453\n",
            "2.5426602363586426\n",
            "2.5166823863983154\n",
            "2.507244110107422\n",
            "2.500839948654175\n",
            "2.4988772869110107\n",
            "2.4934701919555664\n",
            "2.492265462875366\n",
            "2.4624667167663574\n",
            "2.4574077129364014\n",
            "2.479788303375244\n",
            "2.4750914573669434\n",
            "2.456813097000122\n",
            "2.4512081146240234\n",
            "2.480785846710205\n",
            "2.470933198928833\n",
            "2.456944704055786\n",
            "2.48120379447937\n",
            "2.4787580966949463\n",
            "2.474381923675537\n",
            "2.4607205390930176\n",
            "2.4881608486175537\n",
            "2.463122606277466\n",
            "2.4489617347717285\n",
            "2.4821860790252686\n",
            "2.4646897315979004\n",
            "2.4672324657440186\n",
            "2.4882657527923584\n",
            "2.4676506519317627\n",
            "2.470757007598877\n",
            "2.448894739151001\n",
            "2.4807395935058594\n",
            "2.481435775756836\n",
            "2.4669249057769775\n",
            "2.4747588634490967\n",
            "2.498727798461914\n",
            "2.4550631046295166\n",
            "2.4508919715881348\n",
            "2.4482529163360596\n",
            "2.501944065093994\n",
            "2.4572672843933105\n",
            "2.4365365505218506\n",
            "2.458045244216919\n",
            "2.4633145332336426\n",
            "2.4595162868499756\n",
            "2.487232208251953\n",
            "2.483765125274658\n",
            "2.5002646446228027\n",
            "2.4701218605041504\n",
            "2.460873603820801\n",
            "2.4807236194610596\n",
            "2.4818413257598877\n",
            "2.479693651199341\n",
            "2.44787335395813\n",
            "2.461225748062134\n",
            "2.4776923656463623\n",
            "2.473283290863037\n",
            "2.480870485305786\n",
            "2.476219415664673\n",
            "2.4670536518096924\n",
            "2.467071294784546\n",
            "2.4724085330963135\n",
            "2.490575075149536\n",
            "2.4784820079803467\n",
            "2.482119560241699\n",
            "2.4658148288726807\n",
            "2.475360155105591\n",
            "2.4761033058166504\n",
            "2.490180730819702\n",
            "2.4748971462249756\n",
            "2.465756893157959\n",
            "2.4840595722198486\n",
            "2.4604461193084717\n",
            "2.526477336883545\n",
            "2.471391439437866\n",
            "2.4645416736602783\n",
            "2.4723939895629883\n",
            "2.491621494293213\n",
            "2.4499173164367676\n",
            "2.467249631881714\n",
            "2.486494541168213\n",
            "2.4692625999450684\n",
            "2.49079966545105\n",
            "2.4990923404693604\n",
            "2.48203444480896\n",
            "2.4696896076202393\n",
            "2.4775474071502686\n",
            "2.467507839202881\n",
            "2.448568105697632\n",
            "2.462334632873535\n",
            "2.454824447631836\n",
            "2.4858598709106445\n",
            "2.4841883182525635\n",
            "2.4577479362487793\n",
            "2.4622669219970703\n",
            "2.467639923095703\n",
            "2.4909839630126953\n",
            "2.447500228881836\n",
            "2.4728715419769287\n",
            "2.4550280570983887\n",
            "2.4588582515716553\n",
            "2.456071376800537\n",
            "2.4948055744171143\n",
            "2.4599826335906982\n",
            "2.4642555713653564\n",
            "2.467341423034668\n",
            "2.469484567642212\n",
            "2.4874086380004883\n",
            "2.464907646179199\n",
            "2.4762189388275146\n",
            "2.473766326904297\n",
            "2.4635138511657715\n",
            "2.459315538406372\n",
            "2.471546173095703\n",
            "2.4639854431152344\n",
            "2.464536190032959\n",
            "2.474679708480835\n",
            "2.4767396450042725\n",
            "2.4850828647613525\n",
            "2.4921579360961914\n",
            "2.454892635345459\n",
            "2.4740939140319824\n",
            "2.458991527557373\n",
            "2.4731435775756836\n",
            "2.456538677215576\n",
            "2.460191011428833\n",
            "2.4752118587493896\n",
            "2.4822330474853516\n",
            "2.4858574867248535\n",
            "2.477726697921753\n",
            "2.490117073059082\n",
            "2.480778455734253\n",
            "2.4762094020843506\n",
            "2.454827308654785\n",
            "2.4545066356658936\n",
            "2.475849151611328\n",
            "2.4500250816345215\n",
            "2.4616940021514893\n",
            "2.473719358444214\n",
            "2.4599826335906982\n",
            "2.4544529914855957\n",
            "2.4806931018829346\n",
            "2.5060837268829346\n",
            "2.4497644901275635\n",
            "2.456418991088867\n",
            "2.4502475261688232\n",
            "2.4706101417541504\n",
            "2.447580575942993\n",
            "2.483020067214966\n",
            "2.4710423946380615\n",
            "2.4722564220428467\n",
            "2.452234983444214\n",
            "2.489556074142456\n",
            "2.4592323303222656\n",
            "2.4808120727539062\n",
            "2.4906294345855713\n",
            "2.457240343093872\n",
            "2.449712038040161\n",
            "2.4557158946990967\n",
            "2.460294485092163\n",
            "2.468155860900879\n",
            "2.475410223007202\n",
            "2.479804754257202\n",
            "2.4544525146484375\n"
          ]
        }
      ],
      "source": [
        "#batch_size = 32\n",
        "loss_values = [] # List to store the loss values\n",
        "for steps in range(max_iters):\n",
        "\n",
        "  # Sample a batch of data\n",
        "  xb, yb = get_batch('train')\n",
        "  xb = xb.to(device)\n",
        "  yb = yb.to(device)\n",
        "\n",
        "  # Evaluate the loss\n",
        "  logits, loss = m(xb, yb)\n",
        "  optimizer.zero_grad(set_to_none=True)\n",
        "  loss.backward()\n",
        "  optimizer.step()\n",
        "\n",
        "  # Step the scheduler\n",
        "  scheduler.step()\n",
        "\n",
        "  loss_values.append(loss.item())\n",
        "\n",
        "  print(loss.item())\n"
      ]
    },
    {
      "cell_type": "code",
      "execution_count": null,
      "metadata": {
        "colab": {
          "base_uri": "https://localhost:8080/"
        },
        "id": "6Uzhf-DJ9F7A",
        "outputId": "fa06c644-0c90-4144-8a3a-835b14028ff0"
      },
      "outputs": [
        {
          "name": "stdout",
          "output_type": "stream",
          "text": [
            "\n",
            "lejóoso,a ya, s poncid—é, azséare ta pas.o, splsdata  nnc p ¿e—edladann pquees, y eon masasplllls plll any c,eststó s hon stsa,orosepicodaeta l dím, medips, a yo sau toe p qu s l\n",
            "els dadimos mido yo, pl He uo ss l ls a sos quij lldosenciabea atada es y us cadide Aasa p sdo pó spal, mp petdtpsquidospes a mi l cas c huia qumalen siis paelo y pa asecodies s pas a cela d luec pssss easotap la lo, ts, Qteue t hsts rs,e s  didmpos cijs v A chblap ta, a peci, qu qu—achquéan last ms ecadospstalidias Nades-e qubtdos mampaO s ts pas —d s\n",
            "di es dests\n",
            "acdo Sae p Do e cass, Pssazell s, pu, dos lcale he tn mu po l»s y l dooyoeagsuc pscasdtacsY alze p, liama puelas dsotela ma, o, ys c lesi, land ses cha ael, s qudostes  halar yy, q s en pa, e ¡pooa  Ee.sen cqu s»len das co pa c ya quc mps ispo pdos epa m e pe Hmpdo pocisues ll po l payascallased ulapas me qu mpepUsqudpe pa mp no, maados, p s cs s Q;e yoy c p h — to psc y le pa dies ds Yseve éó pazlssp D sr pus Nsue  psacidosmpiüa e s\n",
            "uia cass can l a\n"
          ]
        }
      ],
      "source": [
        "print(decoder(m.generate(idx=torch.zeros((1, 1), dtype=torch.long, device=device), max_new_tokens=1000)[0].tolist()))"
      ]
    },
    {
      "cell_type": "code",
      "execution_count": null,
      "metadata": {
        "colab": {
          "base_uri": "https://localhost:8080/",
          "height": 487
        },
        "id": "CTq4nCzCujXO",
        "outputId": "d15d1563-1e08-4829-a5b4-d33c33db9ba7"
      },
      "outputs": [
        {
          "data": {
            "image/png": "[encoded data removed]",
            "text/plain": [
              "<Figure size 1000x500 with 1 Axes>"
            ]
          },
          "metadata": {},
          "output_type": "display_data"
        }
      ],
      "source": [
        "# Plot the training loss\n",
        "plt.figure(figsize=(10, 5))\n",
        "plt.plot(loss_values, label='Training loss')\n",
        "plt.title('Loss Over Time')\n",
        "plt.xlabel('Iteration')\n",
        "plt.ylabel('Loss')\n",
        "plt.legend()\n",
        "plt.grid(True)\n",
        "plt.show()"
      ]
    },
    {
      "cell_type": "markdown",
      "metadata": {
        "id": "X96fEyWvKw7D"
      },
      "source": [
        "### The mathematical trick is self-attention"
      ]
    },
    {
      "cell_type": "code",
      "execution_count": null,
      "metadata": {
        "colab": {
          "base_uri": "https://localhost:8080/"
        },
        "id": "CiMzLm1VK4Wf",
        "outputId": "0b16411a-e0f8-40e0-a8ae-7ea7d07a3fdc"
      },
      "outputs": [
        {
          "data": {
            "text/plain": [
              "torch.Size([4, 8, 2])"
            ]
          },
          "execution_count": 14,
          "metadata": {},
          "output_type": "execute_result"
        }
      ],
      "source": [
        "# Consider the following toy example\n",
        "# We want that the tokens talk to each other but in a specific way (backward).\n",
        "# For instance a token in the fifth location it should not communicate with token in the sixth, seventh and eight location\n",
        "# because those are future tokens in the sequence instead should only talk to the fourth, third, second and one\n",
        "\n",
        "# A week way of communication between the token is through averagin the influence of the previous token to the current one\n",
        "\n",
        "torch.manual_seed(1337)\n",
        "B,T,C = 4,8,2 # batch, time, channels\n",
        "x = torch.randn(B,T,C)\n",
        "x.shape"
      ]
    },
    {
      "cell_type": "code",
      "execution_count": null,
      "metadata": {
        "id": "7kPTWLFpLYiI"
      },
      "outputs": [],
      "source": [
        "# The trick is that we can be very efficient about doing this\n",
        "# using matrix multiplication. Thats the mathematical trick\n",
        "# We want x[b,t] = mean_{i<=t} x[b,i]\n",
        "xbow = torch.zeros((B,T,C))\n",
        "for b in range(B):\n",
        "    for t in range(T):\n",
        "        xprev = x[b,:t+1] # (t,C)\n",
        "        xbow[b,t] = torch.mean(xprev, 0)"
      ]
    },
    {
      "cell_type": "code",
      "execution_count": null,
      "metadata": {
        "colab": {
          "base_uri": "https://localhost:8080/"
        },
        "id": "HBhZXqtOZVos",
        "outputId": "9bc511c5-3e68-4b60-e7ff-3b1b5cff1e1c"
      },
      "outputs": [
        {
          "data": {
            "text/plain": [
              "False"
            ]
          },
          "execution_count": 16,
          "metadata": {},
          "output_type": "execute_result"
        }
      ],
      "source": [
        "# version 2: using matrix multiply for a weighted aggregation\n",
        "wei = torch.tril(torch.ones(T, T))\n",
        "wei = wei / wei.sum(1, keepdim=True)\n",
        "xbow2 = wei @ x # (B, T, T) @ (B, T, C) ----> (B, T, C)\n",
        "torch.allclose(xbow, xbow2)"
      ]
    },
    {
      "cell_type": "code",
      "execution_count": null,
      "metadata": {
        "colab": {
          "base_uri": "https://localhost:8080/"
        },
        "id": "61y0G2BwdQk6",
        "outputId": "3868395f-a1e1-494e-905e-e27dd19ee897"
      },
      "outputs": [
        {
          "data": {
            "text/plain": [
              "(tensor([[ 0.1808, -0.0700],\n",
              "         [-0.0894, -0.4926],\n",
              "         [ 0.1490, -0.3199],\n",
              "         [ 0.3504, -0.2238],\n",
              "         [ 0.3525,  0.0545],\n",
              "         [ 0.0688, -0.0396],\n",
              "         [ 0.0927, -0.0682],\n",
              "         [-0.0341,  0.1332]]),\n",
              " tensor([[ 0.1808, -0.0700],\n",
              "         [-0.0894, -0.4926],\n",
              "         [ 0.1490, -0.3199],\n",
              "         [ 0.3504, -0.2238],\n",
              "         [ 0.3525,  0.0545],\n",
              "         [ 0.0688, -0.0396],\n",
              "         [ 0.0927, -0.0682],\n",
              "         [-0.0341,  0.1332]]))"
            ]
          },
          "execution_count": 17,
          "metadata": {},
          "output_type": "execute_result"
        }
      ],
      "source": [
        "xbow[0], xbow2[0]"
      ]
    },
    {
      "cell_type": "code",
      "execution_count": null,
      "metadata": {
        "colab": {
          "base_uri": "https://localhost:8080/"
        },
        "id": "O8jt35zcdqey",
        "outputId": "10404178-350c-4436-ed63-2d004301970d"
      },
      "outputs": [
        {
          "data": {
            "text/plain": [
              "False"
            ]
          },
          "execution_count": 18,
          "metadata": {},
          "output_type": "execute_result"
        }
      ],
      "source": [
        "# We can do weighted aggregations of the past elements by using matrix multiplication of a lower triangular\n",
        "# matrix. The elements in the triangula matrix are telling us how much each element fuses\n",
        "# Version 3: Use Softmax\n",
        "trill = torch.tril(torch.ones(T, T))\n",
        "wei = torch.zeros((T, T))\n",
        "# For all the elements where trill is equals to 0 make them negative infinity\n",
        "# The future tokens can't communicate with the past tokens\n",
        "wei = wei.masked_fill(trill == 0, float('-inf'))\n",
        "wei = F.softmax(wei, dim=-1)\n",
        "xbow3 = wei @ x\n",
        "torch.allclose(xbow, xbow3)"
      ]
    },
    {
      "cell_type": "code",
      "execution_count": null,
      "metadata": {
        "colab": {
          "base_uri": "https://localhost:8080/"
        },
        "id": "5XtPbTtM5wvZ",
        "outputId": "f6e471a1-530f-4970-c337-5e88758baba3"
      },
      "outputs": [
        {
          "data": {
            "text/plain": [
              "torch.Size([4, 8, 16])"
            ]
          },
          "execution_count": 20,
          "metadata": {},
          "output_type": "execute_result"
        }
      ],
      "source": [
        "# Gather information from the past in a data dependent way. This is the problem that self-attention solves.\n",
        "# Now, the way self-attention solves this is the following:\n",
        "# Every single node (token) at each position will emit two vectors (query, key).\n",
        "# The query vector roughly speaking is what we are looking for.\n",
        "# The key vector roughly speaking is what do we contain.\n",
        "# The way how we get affinities between these tokens now in a sequence is doing dot product between the keys and the queries.\n",
        "# So our query dot product with all the keys of all the other tokens and that dot product now becomes `wei`.\n",
        "# If the key and the query are sort aligned they will interact to a very high amount and then we will get to learn more about that\n",
        "# specific token as opposed to any othe token in the sequence.\n",
        "\n",
        "torch.manual_seed(1337)\n",
        "B,T,C = 4,8,32 # batch, time, channels\n",
        "x = torch.randn(B,T,C)\n",
        "\n",
        "# Let's see a single head perform self-attention\n",
        "head_size = 16\n",
        "key = nn.Linear(C, head_size, bias=False)\n",
        "query = nn.Linear(C, head_size, bias=False)\n",
        "value = nn.Linear(C, head_size, bias=False)\n",
        "k = key(x) # (B, T, 16)\n",
        "q = query(x) # (B, T, 16)\n",
        "wei = q @ k.transpose(-2, -1) # (B, T, 16) @ (B, 16, T) ---> (B, T, T)\n",
        "\n",
        "\n",
        "trill = torch.tril(torch.ones(T, T))\n",
        "wei = wei.masked_fill(trill == 0, float('-inf'))\n",
        "wei = F.softmax(wei, dim=-1)\n",
        "\n",
        "v = value(x)\n",
        "out = wei @ v\n",
        "out.shape"
      ]
    },
    {
      "cell_type": "markdown",
      "metadata": {
        "id": "T7M8T7RGtOdT"
      },
      "source": [
        "Notes:\n",
        "- Attention is a **communication mechanism**. Can be seen as nodes in a directed graph looking at each other and aggregating information with a weighted sum from all nodes that point to them, with data-dependent weights.\n",
        "- There is no notion of space. Attention simply acts over a set of vectors. This is why we need to positionally encode tokens.\n",
        "- Each example across batch dimension is of course processed completely independently and never \"talk\" to each other\n",
        "- In an \"encoder\" attention block just delete the single line that does masking with `tril`, allowing all tokens to communicate. This block here is called a \"decoder\" attention block because it has triangular masking, and is usually used in autoregressive settings, like language modeling.\n",
        "- \"self-attention\" just means that the keys and values are produced from the same source as queries. In \"cross-attention\", the queries still get produced from x, but the keys and values come from some other, external source (e.g. an encoder module)\n",
        "- \"Scaled\" attention additional divides `wei` by 1/sqrt(head_size). This makes it so when input Q,K are unit variance, wei will be unit variance too and Softmax will stay diffuse and not saturate too much. Illustration below"
      ]
    },
    {
      "cell_type": "code",
      "execution_count": null,
      "metadata": {
        "colab": {
          "base_uri": "https://localhost:8080/"
        },
        "id": "c5Nc2k3FPPvi",
        "outputId": "92990cab-b64b-4993-d120-3b18c885fd89"
      },
      "outputs": [
        {
          "name": "stdout",
          "output_type": "stream",
          "text": [
            "tensor([[1.0000, 0.0000, 0.0000],\n",
            "        [0.5000, 0.5000, 0.0000],\n",
            "        [0.3333, 0.3333, 0.3333]])\n",
            "tensor([[2., 7.],\n",
            "        [6., 4.],\n",
            "        [6., 5.]])\n",
            "tensor([[2.0000, 7.0000],\n",
            "        [4.0000, 5.5000],\n",
            "        [4.6667, 5.3333]])\n"
          ]
        }
      ],
      "source": [
        "# By manipulating these elements of the multiplying matrix and then multiplying it with any given matrix\n",
        "# we can do these averages in this incremental fashion\n",
        "\n",
        "torch.manual_seed(42)\n",
        "a = torch.tril(torch.ones(3,3))\n",
        "a = a / torch.sum(a, 1, keepdim=True)\n",
        "b = torch.randint(0, 10, (3, 2)).float()\n",
        "c = a @ b\n",
        "print(a)\n",
        "print(b)\n",
        "print(c)"
      ]
    }
  ],
  "metadata": {
    "accelerator": "GPU",
    "colab": {
      "gpuType": "L4",
      "machine_shape": "hm",
      "provenance": [],
      "toc_visible": true,
      "authorship_tag": "ABX9TyPyiAxvDOJGDDAiJmf4sFr8",
      "include_colab_link": true
    },
    "kernelspec": {
      "display_name": "Python 3",
      "name": "python3"
    },
    "language_info": {
      "name": "python"
    }
  },
  "nbformat": 4,
  "nbformat_minor": 0
}